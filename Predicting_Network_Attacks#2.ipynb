{
  "cells": [
    {
      "cell_type": "code",
      "execution_count": 1,
      "metadata": {
        "colab": {},
        "colab_type": "code",
        "id": "yb0-OE5hlusS"
      },
      "outputs": [
        {
          "name": "stderr",
          "output_type": "stream",
          "text": [
            "2023-08-08 14:22:27.787522: I tensorflow/core/util/port.cc:110] oneDNN custom operations are on. You may see slightly different numerical results due to floating-point round-off errors from different computation orders. To turn them off, set the environment variable `TF_ENABLE_ONEDNN_OPTS=0`.\n",
            "2023-08-08 14:22:27.816886: I tensorflow/core/platform/cpu_feature_guard.cc:182] This TensorFlow binary is optimized to use available CPU instructions in performance-critical operations.\n",
            "To enable the following instructions: AVX2 AVX_VNNI FMA, in other operations, rebuild TensorFlow with the appropriate compiler flags.\n",
            "2023-08-08 14:22:28.313956: W tensorflow/compiler/tf2tensorrt/utils/py_utils.cc:38] TF-TRT Warning: Could not find TensorRT\n"
          ]
        }
      ],
      "source": [
        "import os\n",
        "from collections import defaultdict\n",
        "import pandas as pd\n",
        "import numpy as np\n",
        "import matplotlib.pyplot as plt\n",
        "%matplotlib inline\n",
        "import keras\n",
        "import tensorflow as tf\n",
        "from keras.layers import Conv1D, MaxPooling1D, Flatten, Dense, BatchNormalization\n",
        "from sklearn.preprocessing import MinMaxScaler\n",
        "from keras.models import Sequential"
      ]
    },
    {
      "cell_type": "code",
      "execution_count": 2,
      "metadata": {
        "colab": {},
        "colab_type": "code",
        "id": "ueVXbc61l56U"
      },
      "outputs": [],
      "source": [
        "#os.listdir()\n",
        "dataset_root = os.path.join(os.getcwd(),'Datasets/KDD')"
      ]
    },
    {
      "cell_type": "code",
      "execution_count": 3,
      "metadata": {
        "colab": {},
        "colab_type": "code",
        "id": "oPauQXOAmGIB"
      },
      "outputs": [],
      "source": [
        "train_file = os.path.join(dataset_root, 'KDDTrain+_20Percent.csv')\n",
        "test_file = os.path.join(dataset_root, 'KDDTest-21.csv')"
      ]
    },
    {
      "cell_type": "code",
      "execution_count": 4,
      "metadata": {
        "colab": {},
        "colab_type": "code",
        "id": "FHDfemmsmcNg"
      },
      "outputs": [],
      "source": [
        "header_names = ['duration', 'protocol_type', 'service', 'flag', 'src_bytes', 'dst_bytes', 'land', 'wrong_fragment', 'urgent', 'hot', 'num_failed_logins', 'logged_in', 'num_compromised', 'root_shell', 'su_attempted', 'num_root', 'num_file_creations', 'num_shells', 'num_access_files', 'num_outbound_cmds', 'is_host_login', 'is_guest_login', 'count', 'srv_count', 'serror_rate', 'srv_serror_rate', 'rerror_rate', 'srv_rerror_rate', 'same_srv_rate', 'diff_srv_rate', 'srv_diff_host_rate', 'dst_host_count', 'dst_host_srv_count', 'dst_host_same_srv_rate', 'dst_host_diff_srv_rate', 'dst_host_same_src_port_rate', 'dst_host_srv_diff_host_rate', 'dst_host_serror_rate', 'dst_host_srv_serror_rate', 'dst_host_rerror_rate', 'dst_host_srv_rerror_rate', 'attack_type', 'success_pred']"
      ]
    },
    {
      "cell_type": "code",
      "execution_count": 5,
      "metadata": {
        "colab": {},
        "colab_type": "code",
        "id": "vU2FBTK2o_re"
      },
      "outputs": [],
      "source": [
        "col_names = np.array(header_names)\n",
        "\n",
        "nominal_idx = [1, 2, 3]\n",
        "binary_idx = [6, 11, 13, 14, 20, 21]\n",
        "numeric_idx = list(set(range(41)).difference(nominal_idx).difference(binary_idx))\n",
        "\n",
        "nominal_cols = col_names[nominal_idx].tolist()\n",
        "binary_cols = col_names[binary_idx].tolist()\n",
        "numeric_cols = col_names[numeric_idx].tolist()"
      ]
    },
    {
      "cell_type": "code",
      "execution_count": 6,
      "metadata": {
        "colab": {},
        "colab_type": "code",
        "id": "kh9cxuCYqDvc"
      },
      "outputs": [],
      "source": [
        "category = defaultdict(list)\n",
        "category['benign'].append('normal')\n",
        "\n",
        "name = os.path.join(dataset_root,'name.txt')\n",
        "with open(name, 'r') as f:\n",
        "    for line in f.readlines():\n",
        "        #print(line)\n",
        "        attack, cat = line.strip().split(' ')\n",
        "        category[cat].append(attack)\n",
        "\n",
        "attack_mapping = dict((v,k) for k in category for v in category[k])"
      ]
    },
    {
      "cell_type": "code",
      "execution_count": 7,
      "metadata": {
        "colab": {
          "base_uri": "https://localhost:8080/",
          "height": 744
        },
        "colab_type": "code",
        "id": "i62KQmLkqJHI",
        "outputId": "f9ad0b2e-6cd8-43b7-f73d-3be184da89c5"
      },
      "outputs": [
        {
          "data": {
            "text/plain": [
              "{'normal': 'benign',\n",
              " 'apache2': 'dos',\n",
              " 'back': 'dos',\n",
              " 'land': 'dos',\n",
              " 'mailbomb': 'dos',\n",
              " 'neptune': 'dos',\n",
              " 'pod': 'dos',\n",
              " 'processtable': 'dos',\n",
              " 'smurf': 'dos',\n",
              " 'teardrop': 'dos',\n",
              " 'udpstorm': 'dos',\n",
              " 'worm': 'dos',\n",
              " 'buffer_overflow': 'u2r',\n",
              " 'loadmodule': 'u2r',\n",
              " 'perl': 'u2r',\n",
              " 'ps': 'u2r',\n",
              " 'rootkit': 'u2r',\n",
              " 'sqlattack': 'u2r',\n",
              " 'xterm': 'u2r',\n",
              " 'ftp_write': 'r2l',\n",
              " 'guess_passwd': 'r2l',\n",
              " 'httptunnel': 'r2l',\n",
              " 'imap': 'r2l',\n",
              " 'multihop': 'r2l',\n",
              " 'named': 'r2l',\n",
              " 'phf': 'r2l',\n",
              " 'sendmail': 'r2l',\n",
              " 'snmpgetattack': 'r2l',\n",
              " 'snmpguess': 'r2l',\n",
              " 'spy': 'r2l',\n",
              " 'warezclient': 'r2l',\n",
              " 'warezmaster': 'r2l',\n",
              " 'xlock': 'r2l',\n",
              " 'xsnoop': 'r2l',\n",
              " 'ipsweep': 'probe',\n",
              " 'mscan': 'probe',\n",
              " 'nmap': 'probe',\n",
              " 'portsweep': 'probe',\n",
              " 'saint': 'probe',\n",
              " 'satan': 'probe'}"
            ]
          },
          "execution_count": 7,
          "metadata": {},
          "output_type": "execute_result"
        }
      ],
      "source": [
        "attack_mapping"
      ]
    },
    {
      "cell_type": "code",
      "execution_count": 8,
      "metadata": {
        "colab": {},
        "colab_type": "code",
        "id": "-6i9cGPsrPzP"
      },
      "outputs": [],
      "source": [
        "DataSetKDDTrain = pd.read_csv(train_file, names=header_names)\n",
        "DataSetKDDTrain['attack_category'] = DataSetKDDTrain['attack_type'].map(lambda x: attack_mapping[x])\n",
        "DataSetKDDTrain.drop(['success_pred'], axis=1, inplace=True)\n",
        "    \n",
        "DataSetKDDTest = pd.read_csv(test_file, names=header_names)\n",
        "DataSetKDDTest['attack_category'] = DataSetKDDTest['attack_type'].map(lambda x: attack_mapping[x])\n",
        "DataSetKDDTest.drop(['success_pred'], axis=1, inplace=True)"
      ]
    },
    {
      "cell_type": "code",
      "execution_count": 9,
      "metadata": {},
      "outputs": [],
      "source": [
        "src_train = DataSetKDDTrain['src_bytes']\n",
        "src_test = DataSetKDDTest['src_bytes']\n",
        "dst_train = DataSetKDDTrain['dst_bytes']\n",
        "dst_test = DataSetKDDTest['dst_bytes']"
      ]
    },
    {
      "cell_type": "code",
      "execution_count": 10,
      "metadata": {},
      "outputs": [
        {
          "data": {
            "text/plain": [
              "(381709090, 62825648, 5151385, 1288652)"
            ]
          },
          "execution_count": 10,
          "metadata": {},
          "output_type": "execute_result"
        }
      ],
      "source": [
        "np.max(src_train), np.max(src_test), np.max(dst_train), np.max(dst_test)"
      ]
    },
    {
      "cell_type": "code",
      "execution_count": 11,
      "metadata": {},
      "outputs": [],
      "source": [
        "src_train = np.array(src_train).reshape(-1, 1)\n",
        "src_test = np.array(src_test).reshape(-1, 1)\n",
        "dst_train = np.array(dst_train).reshape(-1, 1)\n",
        "dst_test = np.array(dst_test).reshape(-1, 1)"
      ]
    },
    {
      "cell_type": "code",
      "execution_count": 12,
      "metadata": {},
      "outputs": [],
      "source": [
        "scaler = MinMaxScaler(feature_range=(0, 1))\n",
        "src_train = scaler.fit_transform(src_train)\n",
        "dst_train = scaler.fit_transform(dst_train)\n",
        "src_test = scaler.fit_transform(src_test)\n",
        "dst_test = scaler.fit_transform(dst_test)"
      ]
    },
    {
      "cell_type": "code",
      "execution_count": 13,
      "metadata": {},
      "outputs": [],
      "source": [
        "DataSetKDDTrain['src_bytes'] = src_train\n",
        "DataSetKDDTest['src_bytes'] = src_test\n",
        "DataSetKDDTrain['dst_bytes'] = dst_train\n",
        "DataSetKDDTest['dst_bytes'] = dst_test"
      ]
    },
    {
      "cell_type": "code",
      "execution_count": 14,
      "metadata": {},
      "outputs": [],
      "source": [
        "for j in zip(range(len(set(DataSetKDDTrain[\"protocol_type\"]))), list(set(DataSetKDDTrain[\"protocol_type\"]))):\n",
        "    DataSetKDDTrain.loc[(DataSetKDDTrain['protocol_type'] == j[1]), \"protocol_type\"] = j[0]\n",
        "\n",
        "for j in zip(range(len(set(DataSetKDDTrain[\"service\"]))), list(set(DataSetKDDTrain[\"service\"]))):\n",
        "    DataSetKDDTrain.loc[(DataSetKDDTrain['service'] == j[1]), \"service\"] = j[0]\n",
        "    \n",
        "for j in zip(range(len(set(DataSetKDDTrain[\"flag\"]))), list(set(DataSetKDDTrain[\"flag\"]))):\n",
        "    DataSetKDDTrain.loc[(DataSetKDDTrain['flag'] == j[1]), \"flag\"] = j[0]"
      ]
    },
    {
      "cell_type": "code",
      "execution_count": 15,
      "metadata": {},
      "outputs": [],
      "source": [
        "for j in zip(range(len(set(DataSetKDDTest[\"protocol_type\"]))), list(set(DataSetKDDTest[\"protocol_type\"]))):\n",
        "    DataSetKDDTest.loc[(DataSetKDDTest['protocol_type'] == j[1]), \"protocol_type\"] = j[0]\n",
        "\n",
        "for j in zip(range(len(set(DataSetKDDTest[\"service\"]))), list(set(DataSetKDDTest[\"service\"]))):\n",
        "    DataSetKDDTest.loc[(DataSetKDDTest['service'] == j[1]), \"service\"] = j[0]\n",
        "    \n",
        "for j in zip(range(len(set(DataSetKDDTest[\"flag\"]))), list(set(DataSetKDDTest[\"flag\"]))):\n",
        "    DataSetKDDTest.loc[(DataSetKDDTest['flag'] == j[1]), \"flag\"] = j[0]"
      ]
    },
    {
      "cell_type": "code",
      "execution_count": 16,
      "metadata": {
        "colab": {},
        "colab_type": "code",
        "id": "745IJDYfrd_A"
      },
      "outputs": [],
      "source": [
        "train_attack_types = DataSetKDDTrain['attack_type'].value_counts()\n",
        "train_attack_cats = DataSetKDDTrain['attack_category'].value_counts()"
      ]
    },
    {
      "cell_type": "code",
      "execution_count": 17,
      "metadata": {
        "colab": {},
        "colab_type": "code",
        "id": "4Ky3JjjmtLWb"
      },
      "outputs": [],
      "source": [
        "test_attack_types = DataSetKDDTest['attack_type'].value_counts()\n",
        "test_attack_cats = DataSetKDDTest['attack_category'].value_counts()"
      ]
    },
    {
      "cell_type": "code",
      "execution_count": 18,
      "metadata": {
        "colab": {
          "base_uri": "https://localhost:8080/",
          "height": 639
        },
        "colab_type": "code",
        "id": "jDU08ZNy0SIS",
        "outputId": "370c7e63-fbf5-4b48-f14a-34ffa7f34af1"
      },
      "outputs": [
        {
          "data": {
            "text/plain": [
              "<Axes: ylabel='attack_type'>"
            ]
          },
          "execution_count": 18,
          "metadata": {},
          "output_type": "execute_result"
        },
        {
          "data": {
            "image/png": "[encoded data removed]",
            "text/plain": [
              "<Figure size 2000x1000 with 1 Axes>"
            ]
          },
          "metadata": {},
          "output_type": "display_data"
        }
      ],
      "source": [
        "train_attack_types.plot(kind='barh', figsize=(20,10), fontsize=20)"
      ]
    },
    {
      "cell_type": "code",
      "execution_count": 19,
      "metadata": {
        "colab": {
          "base_uri": "https://localhost:8080/",
          "height": 649
        },
        "colab_type": "code",
        "id": "peJ99axm0TsI",
        "outputId": "60b77f4b-44d4-4072-ecaa-3a76f9f9a9b3"
      },
      "outputs": [
        {
          "data": {
            "text/plain": [
              "<Axes: ylabel='attack_category'>"
            ]
          },
          "execution_count": 19,
          "metadata": {},
          "output_type": "execute_result"
        },
        {
          "data": {
            "image/png": "[encoded data removed]",
            "text/plain": [
              "<Figure size 2000x1000 with 1 Axes>"
            ]
          },
          "metadata": {},
          "output_type": "display_data"
        }
      ],
      "source": [
        "train_attack_cats.plot(kind='barh', figsize=(20,10), fontsize=30)"
      ]
    },
    {
      "cell_type": "code",
      "execution_count": 20,
      "metadata": {
        "colab": {
          "base_uri": "https://localhost:8080/",
          "height": 649
        },
        "colab_type": "code",
        "id": "6-auNLpX0X5X",
        "outputId": "471fe78f-84d5-4e8b-a5df-164c3ceb1177"
      },
      "outputs": [
        {
          "data": {
            "text/plain": [
              "<Axes: ylabel='attack_category'>"
            ]
          },
          "execution_count": 20,
          "metadata": {},
          "output_type": "execute_result"
        },
        {
          "data": {
            "image/png": "[encoded data removed]",
            "text/plain": [
              "<Figure size 2000x1000 with 1 Axes>"
            ]
          },
          "metadata": {},
          "output_type": "display_data"
        }
      ],
      "source": [
        "test_attack_cats.plot(kind='barh', figsize=(20,10), fontsize=30)"
      ]
    },
    {
      "cell_type": "code",
      "execution_count": 21,
      "metadata": {
        "colab": {
          "base_uri": "https://localhost:8080/",
          "height": 237
        },
        "colab_type": "code",
        "id": "9p5yxo6x0hr4",
        "outputId": "6babb1e7-e485-4c39-8152-16ab9394cd9b"
      },
      "outputs": [
        {
          "data": {
            "text/html": [
              "<div>\n",
              "<style scoped>\n",
              "    .dataframe tbody tr th:only-of-type {\n",
              "        vertical-align: middle;\n",
              "    }\n",
              "\n",
              "    .dataframe tbody tr th {\n",
              "        vertical-align: top;\n",
              "    }\n",
              "\n",
              "    .dataframe thead th {\n",
              "        text-align: right;\n",
              "    }\n",
              "</style>\n",
              "<table border=\"1\" class=\"dataframe\">\n",
              "  <thead>\n",
              "    <tr style=\"text-align: right;\">\n",
              "      <th></th>\n",
              "      <th>count</th>\n",
              "      <th>mean</th>\n",
              "      <th>std</th>\n",
              "      <th>min</th>\n",
              "      <th>25%</th>\n",
              "      <th>50%</th>\n",
              "      <th>75%</th>\n",
              "      <th>max</th>\n",
              "    </tr>\n",
              "  </thead>\n",
              "  <tbody>\n",
              "    <tr>\n",
              "      <th>land</th>\n",
              "      <td>25192.0</td>\n",
              "      <td>0.000079</td>\n",
              "      <td>0.008910</td>\n",
              "      <td>0.0</td>\n",
              "      <td>0.0</td>\n",
              "      <td>0.0</td>\n",
              "      <td>0.0</td>\n",
              "      <td>1.0</td>\n",
              "    </tr>\n",
              "    <tr>\n",
              "      <th>logged_in</th>\n",
              "      <td>25192.0</td>\n",
              "      <td>0.394768</td>\n",
              "      <td>0.488811</td>\n",
              "      <td>0.0</td>\n",
              "      <td>0.0</td>\n",
              "      <td>0.0</td>\n",
              "      <td>1.0</td>\n",
              "      <td>1.0</td>\n",
              "    </tr>\n",
              "    <tr>\n",
              "      <th>root_shell</th>\n",
              "      <td>25192.0</td>\n",
              "      <td>0.001548</td>\n",
              "      <td>0.039316</td>\n",
              "      <td>0.0</td>\n",
              "      <td>0.0</td>\n",
              "      <td>0.0</td>\n",
              "      <td>0.0</td>\n",
              "      <td>1.0</td>\n",
              "    </tr>\n",
              "    <tr>\n",
              "      <th>su_attempted</th>\n",
              "      <td>25192.0</td>\n",
              "      <td>0.001350</td>\n",
              "      <td>0.048785</td>\n",
              "      <td>0.0</td>\n",
              "      <td>0.0</td>\n",
              "      <td>0.0</td>\n",
              "      <td>0.0</td>\n",
              "      <td>2.0</td>\n",
              "    </tr>\n",
              "    <tr>\n",
              "      <th>is_host_login</th>\n",
              "      <td>25192.0</td>\n",
              "      <td>0.000000</td>\n",
              "      <td>0.000000</td>\n",
              "      <td>0.0</td>\n",
              "      <td>0.0</td>\n",
              "      <td>0.0</td>\n",
              "      <td>0.0</td>\n",
              "      <td>0.0</td>\n",
              "    </tr>\n",
              "    <tr>\n",
              "      <th>is_guest_login</th>\n",
              "      <td>25192.0</td>\n",
              "      <td>0.009130</td>\n",
              "      <td>0.095115</td>\n",
              "      <td>0.0</td>\n",
              "      <td>0.0</td>\n",
              "      <td>0.0</td>\n",
              "      <td>0.0</td>\n",
              "      <td>1.0</td>\n",
              "    </tr>\n",
              "  </tbody>\n",
              "</table>\n",
              "</div>"
            ],
            "text/plain": [
              "                  count      mean       std  min  25%  50%  75%  max\n",
              "land            25192.0  0.000079  0.008910  0.0  0.0  0.0  0.0  1.0\n",
              "logged_in       25192.0  0.394768  0.488811  0.0  0.0  0.0  1.0  1.0\n",
              "root_shell      25192.0  0.001548  0.039316  0.0  0.0  0.0  0.0  1.0\n",
              "su_attempted    25192.0  0.001350  0.048785  0.0  0.0  0.0  0.0  2.0\n",
              "is_host_login   25192.0  0.000000  0.000000  0.0  0.0  0.0  0.0  0.0\n",
              "is_guest_login  25192.0  0.009130  0.095115  0.0  0.0  0.0  0.0  1.0"
            ]
          },
          "execution_count": 21,
          "metadata": {},
          "output_type": "execute_result"
        }
      ],
      "source": [
        "DataSetKDDTrain[binary_cols].describe().transpose()"
      ]
    },
    {
      "cell_type": "code",
      "execution_count": 22,
      "metadata": {
        "colab": {
          "base_uri": "https://localhost:8080/",
          "height": 108
        },
        "colab_type": "code",
        "id": "Ol8E1TzZ0oDt",
        "outputId": "220cfe14-89af-4407-c2af-2ba703aefe55"
      },
      "outputs": [
        {
          "data": {
            "text/plain": [
              "su_attempted\n",
              "0    25171\n",
              "1        8\n",
              "2       13\n",
              "dtype: int64"
            ]
          },
          "execution_count": 22,
          "metadata": {},
          "output_type": "execute_result"
        }
      ],
      "source": [
        "DataSetKDDTrain.groupby(['su_attempted']).size()"
      ]
    },
    {
      "cell_type": "code",
      "execution_count": 23,
      "metadata": {
        "colab": {
          "base_uri": "https://localhost:8080/",
          "height": 90
        },
        "colab_type": "code",
        "id": "OvgOC_Z413oO",
        "outputId": "668e2878-b587-40b7-85d6-57eb47cae10c"
      },
      "outputs": [
        {
          "data": {
            "text/plain": [
              "su_attempted\n",
              "0    25184\n",
              "1        8\n",
              "dtype: int64"
            ]
          },
          "execution_count": 23,
          "metadata": {},
          "output_type": "execute_result"
        }
      ],
      "source": [
        "DataSetKDDTrain['su_attempted'].replace(2, 0, inplace=True)\n",
        "DataSetKDDTest['su_attempted'].replace(2, 0, inplace=True)\n",
        "DataSetKDDTrain.groupby(['su_attempted']).size()"
      ]
    },
    {
      "cell_type": "code",
      "execution_count": 24,
      "metadata": {
        "colab": {
          "base_uri": "https://localhost:8080/",
          "height": 72
        },
        "colab_type": "code",
        "id": "XdxhBdhR18v9",
        "outputId": "6032e938-e697-4093-8f10-c604c24cc77a"
      },
      "outputs": [
        {
          "data": {
            "text/plain": [
              "num_outbound_cmds\n",
              "0    25192\n",
              "dtype: int64"
            ]
          },
          "execution_count": 24,
          "metadata": {},
          "output_type": "execute_result"
        }
      ],
      "source": [
        "DataSetKDDTrain.groupby(['num_outbound_cmds']).size()"
      ]
    },
    {
      "cell_type": "code",
      "execution_count": 25,
      "metadata": {
        "colab": {},
        "colab_type": "code",
        "id": "4CQ2iYih2HCB"
      },
      "outputs": [],
      "source": [
        "DataSetKDDTrain.drop('num_outbound_cmds', axis = 1, inplace=True)\n",
        "DataSetKDDTest.drop('num_outbound_cmds', axis = 1, inplace=True)\n",
        "numeric_cols.remove('num_outbound_cmds')"
      ]
    },
    {
      "cell_type": "code",
      "execution_count": 26,
      "metadata": {
        "colab": {},
        "colab_type": "code",
        "id": "ilZbLRTV2JwQ"
      },
      "outputs": [],
      "source": [
        "train_Y = DataSetKDDTrain['attack_category']\n",
        "train_x_raw = DataSetKDDTrain.drop(['attack_category','attack_type'], axis=1)\n",
        "test_Y = DataSetKDDTest['attack_category']\n",
        "test_x_raw = DataSetKDDTest.drop(['attack_category','attack_type'], axis=1)"
      ]
    },
    {
      "cell_type": "code",
      "execution_count": 27,
      "metadata": {
        "colab": {},
        "colab_type": "code",
        "id": "MnGYnchi2NY8"
      },
      "outputs": [],
      "source": [
        "combined_df_raw = pd.concat([train_x_raw, test_x_raw])\n",
        "combined_df = pd.get_dummies(combined_df_raw, columns=nominal_cols, drop_first=True)\n",
        "\n",
        "train_x = combined_df[:len(train_x_raw)]\n",
        "test_x = combined_df[len(train_x_raw):]\n",
        "\n",
        "# Store dummy variable feature names\n",
        "dummy_variables = list(set(train_x)-set(combined_df_raw))"
      ]
    },
    {
      "cell_type": "code",
      "execution_count": 28,
      "metadata": {
        "colab": {
          "base_uri": "https://localhost:8080/",
          "height": 349
        },
        "colab_type": "code",
        "id": "GGHCvWRH2PAY",
        "outputId": "b2d080c6-c49d-4a5e-db7b-538803acb6d2"
      },
      "outputs": [
        {
          "data": {
            "text/html": [
              "<div>\n",
              "<style scoped>\n",
              "    .dataframe tbody tr th:only-of-type {\n",
              "        vertical-align: middle;\n",
              "    }\n",
              "\n",
              "    .dataframe tbody tr th {\n",
              "        vertical-align: top;\n",
              "    }\n",
              "\n",
              "    .dataframe thead th {\n",
              "        text-align: right;\n",
              "    }\n",
              "</style>\n",
              "<table border=\"1\" class=\"dataframe\">\n",
              "  <thead>\n",
              "    <tr style=\"text-align: right;\">\n",
              "      <th></th>\n",
              "      <th>duration</th>\n",
              "      <th>src_bytes</th>\n",
              "      <th>dst_bytes</th>\n",
              "      <th>land</th>\n",
              "      <th>wrong_fragment</th>\n",
              "      <th>urgent</th>\n",
              "      <th>hot</th>\n",
              "      <th>num_failed_logins</th>\n",
              "      <th>logged_in</th>\n",
              "      <th>num_compromised</th>\n",
              "      <th>...</th>\n",
              "      <th>dst_host_count</th>\n",
              "      <th>dst_host_srv_count</th>\n",
              "      <th>dst_host_same_srv_rate</th>\n",
              "      <th>dst_host_diff_srv_rate</th>\n",
              "      <th>dst_host_same_src_port_rate</th>\n",
              "      <th>dst_host_srv_diff_host_rate</th>\n",
              "      <th>dst_host_serror_rate</th>\n",
              "      <th>dst_host_srv_serror_rate</th>\n",
              "      <th>dst_host_rerror_rate</th>\n",
              "      <th>dst_host_srv_rerror_rate</th>\n",
              "    </tr>\n",
              "  </thead>\n",
              "  <tbody>\n",
              "    <tr>\n",
              "      <th>count</th>\n",
              "      <td>25192.000000</td>\n",
              "      <td>2.519200e+04</td>\n",
              "      <td>25192.000000</td>\n",
              "      <td>25192.000000</td>\n",
              "      <td>25192.000000</td>\n",
              "      <td>25192.00000</td>\n",
              "      <td>25192.000000</td>\n",
              "      <td>25192.000000</td>\n",
              "      <td>25192.000000</td>\n",
              "      <td>25192.000000</td>\n",
              "      <td>...</td>\n",
              "      <td>25192.000000</td>\n",
              "      <td>25192.000000</td>\n",
              "      <td>25192.000000</td>\n",
              "      <td>25192.000000</td>\n",
              "      <td>25192.000000</td>\n",
              "      <td>25192.000000</td>\n",
              "      <td>25192.000000</td>\n",
              "      <td>25192.000000</td>\n",
              "      <td>25192.000000</td>\n",
              "      <td>25192.000000</td>\n",
              "    </tr>\n",
              "    <tr>\n",
              "      <th>mean</th>\n",
              "      <td>305.054104</td>\n",
              "      <td>6.374129e-05</td>\n",
              "      <td>0.000678</td>\n",
              "      <td>0.000079</td>\n",
              "      <td>0.023738</td>\n",
              "      <td>0.00004</td>\n",
              "      <td>0.198039</td>\n",
              "      <td>0.001191</td>\n",
              "      <td>0.394768</td>\n",
              "      <td>0.227850</td>\n",
              "      <td>...</td>\n",
              "      <td>182.532074</td>\n",
              "      <td>115.063036</td>\n",
              "      <td>0.519791</td>\n",
              "      <td>0.082539</td>\n",
              "      <td>0.147453</td>\n",
              "      <td>0.031844</td>\n",
              "      <td>0.285800</td>\n",
              "      <td>0.279846</td>\n",
              "      <td>0.117800</td>\n",
              "      <td>0.118769</td>\n",
              "    </tr>\n",
              "    <tr>\n",
              "      <th>std</th>\n",
              "      <td>2686.555640</td>\n",
              "      <td>6.315819e-03</td>\n",
              "      <td>0.017244</td>\n",
              "      <td>0.008910</td>\n",
              "      <td>0.260221</td>\n",
              "      <td>0.00630</td>\n",
              "      <td>2.154202</td>\n",
              "      <td>0.045418</td>\n",
              "      <td>0.488811</td>\n",
              "      <td>10.417352</td>\n",
              "      <td>...</td>\n",
              "      <td>98.993895</td>\n",
              "      <td>110.646850</td>\n",
              "      <td>0.448944</td>\n",
              "      <td>0.187191</td>\n",
              "      <td>0.308367</td>\n",
              "      <td>0.110575</td>\n",
              "      <td>0.445316</td>\n",
              "      <td>0.446075</td>\n",
              "      <td>0.305869</td>\n",
              "      <td>0.317333</td>\n",
              "    </tr>\n",
              "    <tr>\n",
              "      <th>min</th>\n",
              "      <td>0.000000</td>\n",
              "      <td>0.000000e+00</td>\n",
              "      <td>0.000000</td>\n",
              "      <td>0.000000</td>\n",
              "      <td>0.000000</td>\n",
              "      <td>0.00000</td>\n",
              "      <td>0.000000</td>\n",
              "      <td>0.000000</td>\n",
              "      <td>0.000000</td>\n",
              "      <td>0.000000</td>\n",
              "      <td>...</td>\n",
              "      <td>0.000000</td>\n",
              "      <td>0.000000</td>\n",
              "      <td>0.000000</td>\n",
              "      <td>0.000000</td>\n",
              "      <td>0.000000</td>\n",
              "      <td>0.000000</td>\n",
              "      <td>0.000000</td>\n",
              "      <td>0.000000</td>\n",
              "      <td>0.000000</td>\n",
              "      <td>0.000000</td>\n",
              "    </tr>\n",
              "    <tr>\n",
              "      <th>25%</th>\n",
              "      <td>0.000000</td>\n",
              "      <td>0.000000e+00</td>\n",
              "      <td>0.000000</td>\n",
              "      <td>0.000000</td>\n",
              "      <td>0.000000</td>\n",
              "      <td>0.00000</td>\n",
              "      <td>0.000000</td>\n",
              "      <td>0.000000</td>\n",
              "      <td>0.000000</td>\n",
              "      <td>0.000000</td>\n",
              "      <td>...</td>\n",
              "      <td>84.000000</td>\n",
              "      <td>10.000000</td>\n",
              "      <td>0.050000</td>\n",
              "      <td>0.000000</td>\n",
              "      <td>0.000000</td>\n",
              "      <td>0.000000</td>\n",
              "      <td>0.000000</td>\n",
              "      <td>0.000000</td>\n",
              "      <td>0.000000</td>\n",
              "      <td>0.000000</td>\n",
              "    </tr>\n",
              "    <tr>\n",
              "      <th>50%</th>\n",
              "      <td>0.000000</td>\n",
              "      <td>1.152710e-07</td>\n",
              "      <td>0.000000</td>\n",
              "      <td>0.000000</td>\n",
              "      <td>0.000000</td>\n",
              "      <td>0.00000</td>\n",
              "      <td>0.000000</td>\n",
              "      <td>0.000000</td>\n",
              "      <td>0.000000</td>\n",
              "      <td>0.000000</td>\n",
              "      <td>...</td>\n",
              "      <td>255.000000</td>\n",
              "      <td>61.000000</td>\n",
              "      <td>0.510000</td>\n",
              "      <td>0.030000</td>\n",
              "      <td>0.000000</td>\n",
              "      <td>0.000000</td>\n",
              "      <td>0.000000</td>\n",
              "      <td>0.000000</td>\n",
              "      <td>0.000000</td>\n",
              "      <td>0.000000</td>\n",
              "    </tr>\n",
              "    <tr>\n",
              "      <th>75%</th>\n",
              "      <td>0.000000</td>\n",
              "      <td>7.309231e-07</td>\n",
              "      <td>0.000103</td>\n",
              "      <td>0.000000</td>\n",
              "      <td>0.000000</td>\n",
              "      <td>0.00000</td>\n",
              "      <td>0.000000</td>\n",
              "      <td>0.000000</td>\n",
              "      <td>1.000000</td>\n",
              "      <td>0.000000</td>\n",
              "      <td>...</td>\n",
              "      <td>255.000000</td>\n",
              "      <td>255.000000</td>\n",
              "      <td>1.000000</td>\n",
              "      <td>0.070000</td>\n",
              "      <td>0.060000</td>\n",
              "      <td>0.020000</td>\n",
              "      <td>1.000000</td>\n",
              "      <td>1.000000</td>\n",
              "      <td>0.000000</td>\n",
              "      <td>0.000000</td>\n",
              "    </tr>\n",
              "    <tr>\n",
              "      <th>max</th>\n",
              "      <td>42862.000000</td>\n",
              "      <td>1.000000e+00</td>\n",
              "      <td>1.000000</td>\n",
              "      <td>1.000000</td>\n",
              "      <td>3.000000</td>\n",
              "      <td>1.00000</td>\n",
              "      <td>77.000000</td>\n",
              "      <td>4.000000</td>\n",
              "      <td>1.000000</td>\n",
              "      <td>884.000000</td>\n",
              "      <td>...</td>\n",
              "      <td>255.000000</td>\n",
              "      <td>255.000000</td>\n",
              "      <td>1.000000</td>\n",
              "      <td>1.000000</td>\n",
              "      <td>1.000000</td>\n",
              "      <td>1.000000</td>\n",
              "      <td>1.000000</td>\n",
              "      <td>1.000000</td>\n",
              "      <td>1.000000</td>\n",
              "      <td>1.000000</td>\n",
              "    </tr>\n",
              "  </tbody>\n",
              "</table>\n",
              "<p>8 rows × 37 columns</p>\n",
              "</div>"
            ],
            "text/plain": [
              "           duration     src_bytes     dst_bytes          land  wrong_fragment  \\\n",
              "count  25192.000000  2.519200e+04  25192.000000  25192.000000    25192.000000   \n",
              "mean     305.054104  6.374129e-05      0.000678      0.000079        0.023738   \n",
              "std     2686.555640  6.315819e-03      0.017244      0.008910        0.260221   \n",
              "min        0.000000  0.000000e+00      0.000000      0.000000        0.000000   \n",
              "25%        0.000000  0.000000e+00      0.000000      0.000000        0.000000   \n",
              "50%        0.000000  1.152710e-07      0.000000      0.000000        0.000000   \n",
              "75%        0.000000  7.309231e-07      0.000103      0.000000        0.000000   \n",
              "max    42862.000000  1.000000e+00      1.000000      1.000000        3.000000   \n",
              "\n",
              "            urgent           hot  num_failed_logins     logged_in  \\\n",
              "count  25192.00000  25192.000000       25192.000000  25192.000000   \n",
              "mean       0.00004      0.198039           0.001191      0.394768   \n",
              "std        0.00630      2.154202           0.045418      0.488811   \n",
              "min        0.00000      0.000000           0.000000      0.000000   \n",
              "25%        0.00000      0.000000           0.000000      0.000000   \n",
              "50%        0.00000      0.000000           0.000000      0.000000   \n",
              "75%        0.00000      0.000000           0.000000      1.000000   \n",
              "max        1.00000     77.000000           4.000000      1.000000   \n",
              "\n",
              "       num_compromised  ...  dst_host_count  dst_host_srv_count  \\\n",
              "count     25192.000000  ...    25192.000000        25192.000000   \n",
              "mean          0.227850  ...      182.532074          115.063036   \n",
              "std          10.417352  ...       98.993895          110.646850   \n",
              "min           0.000000  ...        0.000000            0.000000   \n",
              "25%           0.000000  ...       84.000000           10.000000   \n",
              "50%           0.000000  ...      255.000000           61.000000   \n",
              "75%           0.000000  ...      255.000000          255.000000   \n",
              "max         884.000000  ...      255.000000          255.000000   \n",
              "\n",
              "       dst_host_same_srv_rate  dst_host_diff_srv_rate  \\\n",
              "count            25192.000000            25192.000000   \n",
              "mean                 0.519791                0.082539   \n",
              "std                  0.448944                0.187191   \n",
              "min                  0.000000                0.000000   \n",
              "25%                  0.050000                0.000000   \n",
              "50%                  0.510000                0.030000   \n",
              "75%                  1.000000                0.070000   \n",
              "max                  1.000000                1.000000   \n",
              "\n",
              "       dst_host_same_src_port_rate  dst_host_srv_diff_host_rate  \\\n",
              "count                 25192.000000                 25192.000000   \n",
              "mean                      0.147453                     0.031844   \n",
              "std                       0.308367                     0.110575   \n",
              "min                       0.000000                     0.000000   \n",
              "25%                       0.000000                     0.000000   \n",
              "50%                       0.000000                     0.000000   \n",
              "75%                       0.060000                     0.020000   \n",
              "max                       1.000000                     1.000000   \n",
              "\n",
              "       dst_host_serror_rate  dst_host_srv_serror_rate  dst_host_rerror_rate  \\\n",
              "count          25192.000000              25192.000000          25192.000000   \n",
              "mean               0.285800                  0.279846              0.117800   \n",
              "std                0.445316                  0.446075              0.305869   \n",
              "min                0.000000                  0.000000              0.000000   \n",
              "25%                0.000000                  0.000000              0.000000   \n",
              "50%                0.000000                  0.000000              0.000000   \n",
              "75%                1.000000                  1.000000              0.000000   \n",
              "max                1.000000                  1.000000              1.000000   \n",
              "\n",
              "       dst_host_srv_rerror_rate  \n",
              "count              25192.000000  \n",
              "mean                   0.118769  \n",
              "std                    0.317333  \n",
              "min                    0.000000  \n",
              "25%                    0.000000  \n",
              "50%                    0.000000  \n",
              "75%                    0.000000  \n",
              "max                    1.000000  \n",
              "\n",
              "[8 rows x 37 columns]"
            ]
          },
          "execution_count": 28,
          "metadata": {},
          "output_type": "execute_result"
        }
      ],
      "source": [
        "train_x.describe()"
      ]
    },
    {
      "cell_type": "code",
      "execution_count": 29,
      "metadata": {
        "colab": {
          "base_uri": "https://localhost:8080/",
          "height": 181
        },
        "colab_type": "code",
        "id": "s3khTsJe2rRS",
        "outputId": "b15858d3-5c86-4dff-f498-a8589665e064"
      },
      "outputs": [
        {
          "data": {
            "text/plain": [
              "count    2.519200e+04\n",
              "mean     1.424357e-17\n",
              "std      1.000020e+00\n",
              "min     -1.135507e-01\n",
              "25%     -1.135507e-01\n",
              "50%     -1.135507e-01\n",
              "75%     -1.135507e-01\n",
              "max      1.584102e+01\n",
              "dtype: float64"
            ]
          },
          "execution_count": 29,
          "metadata": {},
          "output_type": "execute_result"
        }
      ],
      "source": [
        "from sklearn.preprocessing import StandardScaler\n",
        "\n",
        "durations = train_x['duration'].values.reshape(-1, 1)\n",
        "standard_scaler = StandardScaler().fit(durations)\n",
        "scaled_durations = standard_scaler.transform(durations)\n",
        "pd.Series(scaled_durations.flatten()).describe()"
      ]
    },
    {
      "cell_type": "code",
      "execution_count": 30,
      "metadata": {},
      "outputs": [
        {
          "data": {
            "text/plain": [
              "{'benign', 'dos', 'probe', 'r2l', 'u2r'}"
            ]
          },
          "execution_count": 30,
          "metadata": {},
          "output_type": "execute_result"
        }
      ],
      "source": [
        "set(train_Y)"
      ]
    },
    {
      "cell_type": "code",
      "execution_count": 31,
      "metadata": {
        "colab": {},
        "colab_type": "code",
        "id": "CFT8Zqwf2sVa"
      },
      "outputs": [
        {
          "name": "stderr",
          "output_type": "stream",
          "text": [
            "<>:1: SyntaxWarning: \"is\" with a literal. Did you mean \"==\"?\n",
            "<>:2: SyntaxWarning: \"is\" with a literal. Did you mean \"==\"?\n",
            "<>:1: SyntaxWarning: \"is\" with a literal. Did you mean \"==\"?\n",
            "<>:2: SyntaxWarning: \"is\" with a literal. Did you mean \"==\"?\n",
            "/tmp/ipykernel_9144/2342540571.py:1: SyntaxWarning: \"is\" with a literal. Did you mean \"==\"?\n",
            "  train_Y_bin = train_Y.apply(lambda x: 0 if x is 'benign' else 1)\n",
            "/tmp/ipykernel_9144/2342540571.py:2: SyntaxWarning: \"is\" with a literal. Did you mean \"==\"?\n",
            "  test_Y_bin = test_Y.apply(lambda x: 0 if x is 'benign' else 1)\n"
          ]
        }
      ],
      "source": [
        "train_Y_bin = train_Y.apply(lambda x: 0 if x is 'benign' else 1)\n",
        "test_Y_bin = test_Y.apply(lambda x: 0 if x is 'benign' else 1)"
      ]
    },
    {
      "cell_type": "code",
      "execution_count": 32,
      "metadata": {
        "colab": {
          "base_uri": "https://localhost:8080/",
          "height": 144
        },
        "colab_type": "code",
        "id": "vFHQ55Ke21MO",
        "outputId": "d81a49b8-dc05-4c60-a64a-7f1bcaaf91d9"
      },
      "outputs": [
        {
          "name": "stdout",
          "output_type": "stream",
          "text": [
            "[[1378   33  195  546    0]\n",
            " [1898 2104  124  218    0]\n",
            " [ 524  160 1713    5    0]\n",
            " [2455   67  296   62    5]\n",
            " [  53    0    1    2   11]]\n",
            "0.5554430379746835\n",
            "0.44455696202531647\n"
          ]
        }
      ],
      "source": [
        "#had tried improving imbalancing, no significant change in result\n",
        "from sklearn.tree import DecisionTreeClassifier\n",
        "from sklearn.metrics import confusion_matrix, zero_one_loss, accuracy_score\n",
        "\n",
        "classifier = DecisionTreeClassifier(random_state=17)\n",
        "classifier.fit(train_x, train_Y)\n",
        "\n",
        "pred_y = classifier.predict(test_x)\n",
        "#print(pred_y)\n",
        "\n",
        "results = confusion_matrix(test_Y, pred_y)\n",
        "error = zero_one_loss(test_Y, pred_y)\n",
        "\n",
        "print(results)\n",
        "print(error)\n",
        "print(accuracy_score(pred_y,test_Y))"
      ]
    },
    {
      "cell_type": "code",
      "execution_count": 33,
      "metadata": {},
      "outputs": [],
      "source": [
        "from sklearn.metrics import confusion_matrix, zero_one_loss, accuracy_score"
      ]
    },
    {
      "cell_type": "code",
      "execution_count": 34,
      "metadata": {
        "colab": {
          "base_uri": "https://localhost:8080/",
          "height": 35
        },
        "colab_type": "code",
        "id": "3wBI57b_215v",
        "outputId": "c00f8322-8a11-4d6a-8015-8d34fc68e155"
      },
      "outputs": [
        {
          "data": {
            "text/plain": [
              "True"
            ]
          },
          "execution_count": 34,
          "metadata": {},
          "output_type": "execute_result"
        }
      ],
      "source": [
        "from sklearn.tree import export_graphviz\n",
        "import pydotplus\n",
        "from PIL import Image\n",
        "import os\n",
        "\n",
        "dot_data = export_graphviz(classifier, feature_names=list(train_x.columns),class_names=['benign', 'probe','dos','u2r','r2l'],rounded=True,filled=True)\n",
        "graph = pydotplus.graph_from_dot_data(dot_data)\n",
        "\n",
        "graph.write_png(\"viz_tree.png\")"
      ]
    },
    {
      "cell_type": "code",
      "execution_count": 35,
      "metadata": {
        "colab": {
          "base_uri": "https://localhost:8080/",
          "height": 126
        },
        "colab_type": "code",
        "id": "_NlLrAo3HKl5",
        "outputId": "8b261ac5-3567-43f0-f525-b297e0d69d6b"
      },
      "outputs": [
        {
          "name": "stderr",
          "output_type": "stream",
          "text": [
            "/home/limmireu/.local/lib/python3.10/site-packages/sklearn/svm/_classes.py:32: FutureWarning: The default value of `dual` will change from `True` to `'auto'` in 1.5. Set the value of `dual` explicitly to suppress the warning.\n",
            "  warnings.warn(\n"
          ]
        },
        {
          "name": "stdout",
          "output_type": "stream",
          "text": [
            "[[1900   62  167   21    2]\n",
            " [1696 2358  287    3    0]\n",
            " [ 642  292 1410   58    0]\n",
            " [2846    1   17   19    2]\n",
            " [  40    7    2    3   15]]\n",
            "0.5188185654008439\n"
          ]
        },
        {
          "name": "stderr",
          "output_type": "stream",
          "text": [
            "/home/limmireu/.local/lib/python3.10/site-packages/sklearn/svm/_base.py:1242: ConvergenceWarning: Liblinear failed to converge, increase the number of iterations.\n",
            "  warnings.warn(\n"
          ]
        }
      ],
      "source": [
        "#variants can be added here, the kernel trick one should work better\n",
        "from sklearn.svm import LinearSVC\n",
        "\n",
        "classifier = LinearSVC()\n",
        "classifier.fit(train_x, train_Y)\n",
        "\n",
        "pred_y = classifier.predict(test_x)\n",
        "\n",
        "results = confusion_matrix(test_Y, pred_y)\n",
        "error = zero_one_loss(test_Y, pred_y)\n",
        "\n",
        "print(results)\n",
        "print(error)"
      ]
    },
    {
      "cell_type": "code",
      "execution_count": 36,
      "metadata": {
        "colab": {
          "base_uri": "https://localhost:8080/",
          "height": 35
        },
        "colab_type": "code",
        "id": "S62hRuAhG3f9",
        "outputId": "22f36cdd-f034-4b54-9018-f8425e72db81"
      },
      "outputs": [
        {
          "name": "stdout",
          "output_type": "stream",
          "text": [
            "0.48118143459915613\n"
          ]
        }
      ],
      "source": [
        "print(accuracy_score(pred_y,test_Y))"
      ]
    },
    {
      "cell_type": "code",
      "execution_count": 37,
      "metadata": {
        "colab": {
          "base_uri": "https://localhost:8080/",
          "height": 144
        },
        "colab_type": "code",
        "id": "Cj4d3SayHzJ2",
        "outputId": "6b22da55-02c4-4b90-af90-1ac9e93166b0"
      },
      "outputs": [
        {
          "name": "stdout",
          "output_type": "stream",
          "text": [
            "[LibSVM]WARN: libsvm Solver reached max_iter\n",
            "optimization finished, #iter = 1000\n",
            "obj = -1994.617979, rho = -1.071835\n",
            "nSV = 2000, nBSV = 2000\n",
            "WARN: libsvm Solver reached max_iter\n",
            "optimization finished, #iter = 1000\n",
            "obj = -1997.781970, rho = -0.106640\n",
            "nSV = 2000, nBSV = 2000\n",
            "*\n",
            "optimization finished, #iter = 420\n",
            "obj = -417.528725, rho = -1.062447\n",
            "nSV = 448, nBSV = 405\n",
            "*\n",
            "optimization finished, #iter = 86\n",
            "obj = -21.999603, rho = -1.011574\n",
            "nSV = 47, nBSV = 17\n",
            "WARN: libsvm Solver reached max_iter\n",
            "optimization finished, #iter = 1000\n",
            "obj = -1983.432637, rho = 0.790787\n",
            "nSV = 2000, nBSV = 2000\n",
            "*\n",
            "optimization finished, #iter = 267\n",
            "obj = -382.553970, rho = 0.519210\n",
            "nSV = 394, nBSV = 381\n",
            "*\n",
            "optimization finished, #iter = 24\n",
            "obj = -21.779794, rho = -0.920783\n",
            "nSV = 24, nBSV = 20\n",
            "*\n",
            "optimization finished, #iter = 293\n",
            "obj = -415.424540, rho = -1.021699\n",
            "nSV = 425, nBSV = 406\n",
            "*\n",
            "optimization finished, #iter = 61\n",
            "obj = -21.998659, rho = -1.018632\n",
            "nSV = 32, nBSV = 19\n",
            "*\n",
            "optimization finished, #iter = 14\n",
            "obj = -21.998030, rho = -1.004852\n",
            "nSV = 23, nBSV = 21\n",
            "Total nSV = 4467\n"
          ]
        },
        {
          "name": "stderr",
          "output_type": "stream",
          "text": [
            "/home/limmireu/.local/lib/python3.10/site-packages/sklearn/svm/_base.py:297: ConvergenceWarning: Solver terminated early (max_iter=1000).  Consider pre-processing your data with StandardScaler or MinMaxScaler.\n",
            "  warnings.warn(\n"
          ]
        },
        {
          "name": "stdout",
          "output_type": "stream",
          "text": [
            "[[ 260  728 1164    0    0]\n",
            " [ 957  907 2480    0    0]\n",
            " [   0  601 1801    0    0]\n",
            " [  12    2 2871    0    0]\n",
            " [   4    0   63    0    0]]\n",
            "0.749535864978903\n",
            "0.25046413502109705\n"
          ]
        }
      ],
      "source": [
        "from sklearn.svm import SVC\n",
        "model = SVC(verbose=True,max_iter=1000)\n",
        "\n",
        "model.fit(train_x, train_Y)\n",
        "pred_y = model.predict(test_x)\n",
        "\n",
        "results = confusion_matrix(test_Y, pred_y)\n",
        "error = zero_one_loss(test_Y, pred_y)\n",
        "\n",
        "print(results)\n",
        "print(error)\n",
        "print(accuracy_score(pred_y,test_Y))"
      ]
    },
    {
      "cell_type": "code",
      "execution_count": 38,
      "metadata": {
        "colab": {},
        "colab_type": "code",
        "id": "Chxl7fYW2l-m"
      },
      "outputs": [
        {
          "data": {
            "text/plain": [
              "pandas.core.frame.DataFrame"
            ]
          },
          "execution_count": 38,
          "metadata": {},
          "output_type": "execute_result"
        }
      ],
      "source": [
        "train_x = train_x.astype(float)\n",
        "test_x = test_x.astype(float)\n",
        "type(test_x)"
      ]
    },
    {
      "cell_type": "code",
      "execution_count": 39,
      "metadata": {},
      "outputs": [
        {
          "data": {
            "text/plain": [
              "(11850, 114)"
            ]
          },
          "execution_count": 39,
          "metadata": {},
          "output_type": "execute_result"
        }
      ],
      "source": [
        "test_x.shape"
      ]
    },
    {
      "cell_type": "code",
      "execution_count": 40,
      "metadata": {
        "colab": {},
        "colab_type": "code",
        "id": "vfpQKb4xAa2K"
      },
      "outputs": [
        {
          "data": {
            "text/plain": [
              "(25192, 114)"
            ]
          },
          "execution_count": 40,
          "metadata": {},
          "output_type": "execute_result"
        }
      ],
      "source": [
        "shape = np.array(train_x).shape\n",
        "shape"
      ]
    },
    {
      "cell_type": "code",
      "execution_count": 41,
      "metadata": {},
      "outputs": [],
      "source": [
        "train_x = np.array(train_x)\n",
        "train_Y = np.array(train_Y)\n",
        "test_x = np.array(test_x)\n",
        "test_Y = np.array(test_Y)"
      ]
    },
    {
      "cell_type": "code",
      "execution_count": 44,
      "metadata": {},
      "outputs": [
        {
          "data": {
            "text/plain": [
              "(25192, 114)"
            ]
          },
          "execution_count": 44,
          "metadata": {},
          "output_type": "execute_result"
        }
      ],
      "source": [
        "train_x.shape"
      ]
    },
    {
      "cell_type": "code",
      "execution_count": 45,
      "metadata": {},
      "outputs": [
        {
          "data": {
            "text/plain": [
              "(11850, 114)"
            ]
          },
          "execution_count": 45,
          "metadata": {},
          "output_type": "execute_result"
        }
      ],
      "source": [
        "test_x.shape"
      ]
    },
    {
      "cell_type": "code",
      "execution_count": 43,
      "metadata": {},
      "outputs": [
        {
          "ename": "ValueError",
          "evalue": "can only specify one unknown dimension",
          "output_type": "error",
          "traceback": [
            "\u001b[0;31m---------------------------------------------------------------------------\u001b[0m",
            "\u001b[0;31mValueError\u001b[0m                                Traceback (most recent call last)",
            "Cell \u001b[0;32mIn[43], line 1\u001b[0m\n\u001b[0;32m----> 1\u001b[0m train_x \u001b[39m=\u001b[39m train_x\u001b[39m.\u001b[39;49mreshape(\u001b[39m-\u001b[39;49m\u001b[39m1\u001b[39;49m, \u001b[39m-\u001b[39;49m\u001b[39m1\u001b[39;49m, \u001b[39m1\u001b[39;49m)\n\u001b[1;32m      2\u001b[0m test_x \u001b[39m=\u001b[39m test_x\u001b[39m.\u001b[39mreshape(\u001b[39m-\u001b[39m\u001b[39m1\u001b[39m, \u001b[39m118\u001b[39m, \u001b[39m1\u001b[39m)\n\u001b[1;32m      3\u001b[0m test_x\u001b[39m.\u001b[39mshape\n",
            "\u001b[0;31mValueError\u001b[0m: can only specify one unknown dimension"
          ]
        }
      ],
      "source": [
        "train_x = train_x.reshape(125973, -1, 1)\n",
        "test_x = test_x.reshape(22544, 118, 1)\n",
        "test_x.shape"
      ]
    },
    {
      "cell_type": "code",
      "execution_count": null,
      "metadata": {},
      "outputs": [
        {
          "name": "stderr",
          "output_type": "stream",
          "text": [
            "2023-08-08 14:08:21.076022: I tensorflow/compiler/xla/stream_executor/cuda/cuda_gpu_executor.cc:995] successful NUMA node read from SysFS had negative value (-1), but there must be at least one NUMA node, so returning NUMA node zero. See more at https://github.com/torvalds/linux/blob/v6.0/Documentation/ABI/testing/sysfs-bus-pci#L344-L355\n",
            "2023-08-08 14:08:21.131552: W tensorflow/core/common_runtime/gpu/gpu_device.cc:1960] Cannot dlopen some GPU libraries. Please make sure the missing libraries mentioned above are installed properly if you would like to use GPU. Follow the guide at https://www.tensorflow.org/install/gpu for how to download and setup the required libraries for your platform.\n",
            "Skipping registering GPU devices...\n"
          ]
        }
      ],
      "source": [
        "model = Sequential()\n",
        "model.add(Conv1D(filters=64, kernel_size=5, activation='tanh', input_shape=(118, 1)))\n",
        "model.add(BatchNormalization())\n",
        "model.add(Conv1D(filters=128, kernel_size=5, activation='relu', input_shape=(118, 1)))\n",
        "model.add(BatchNormalization())\n",
        "model.add(Flatten())\n",
        "model.add(Dense(10, activation='relu'))\n",
        "model.add(Dense(1, activation='sigmoid'))"
      ]
    },
    {
      "cell_type": "code",
      "execution_count": null,
      "metadata": {},
      "outputs": [],
      "source": [
        "model.compile(loss='binary_crossentropy', optimizer='RMSprop', metrics=['accuracy'])"
      ]
    },
    {
      "cell_type": "code",
      "execution_count": null,
      "metadata": {},
      "outputs": [
        {
          "name": "stdout",
          "output_type": "stream",
          "text": [
            "6299/6299 [==============================] - 32s 5ms/step - loss: 0.1782 - accuracy: 0.9496 - val_loss: 0.1090 - val_accuracy: 0.9761\n"
          ]
        },
        {
          "data": {
            "text/plain": [
              "<keras.src.callbacks.History at 0x7fcab2e29a80>"
            ]
          },
          "execution_count": 80,
          "metadata": {},
          "output_type": "execute_result"
        }
      ],
      "source": [
        "model.fit(train_x, train_Y_bin, epochs=1, batch_size=16, validation_split=0.2)"
      ]
    },
    {
      "cell_type": "code",
      "execution_count": null,
      "metadata": {},
      "outputs": [
        {
          "name": "stdout",
          "output_type": "stream",
          "text": [
            "705/705 [==============================] - 2s 2ms/step\n"
          ]
        }
      ],
      "source": [
        "pred_y = model.predict(test_x)\n",
        "\n",
        "acc = {}\n",
        "for i in np.arange(0, 0.5, 0.005):\n",
        "    pred = (pred_y > i).astype(int)\n",
        "    acc.update({i: accuracy_score(test_Y_bin, pred)})"
      ]
    },
    {
      "cell_type": "code",
      "execution_count": null,
      "metadata": {},
      "outputs": [
        {
          "data": {
            "text/plain": [
              "{0.0: 0.5692423704755145,\n",
              " 0.005: 0.5692423704755145,\n",
              " 0.01: 0.5692423704755145,\n",
              " 0.015: 0.5692423704755145,\n",
              " 0.02: 0.5692423704755145,\n",
              " 0.025: 0.5692423704755145,\n",
              " 0.03: 0.5692423704755145,\n",
              " 0.035: 0.5691980127750177,\n",
              " 0.04: 0.7639283179559971,\n",
              " 0.045: 0.7635290986515259,\n",
              " 0.05: 0.7630855216465579,\n",
              " 0.055: 0.7625975869410929,\n",
              " 0.06: 0.7623757984386089,\n",
              " 0.065: 0.7622427253371186,\n",
              " 0.07: 0.7620209368346345,\n",
              " 0.075: 0.7618435060326473,\n",
              " 0.08: 0.7615773598296665,\n",
              " 0.085: 0.7610894251242015,\n",
              " 0.09: 0.7606014904187367,\n",
              " 0.095: 0.7603797019162527,\n",
              " 0.1: 0.7602466288147622,\n",
              " 0.105: 0.7599804826117814,\n",
              " 0.11: 0.7598917672107878,\n",
              " 0.115: 0.7596699787083038,\n",
              " 0.12: 0.7595369056068133,\n",
              " 0.125: 0.7593151171043293,\n",
              " 0.13: 0.7592707594038325,\n",
              " 0.135: 0.7589602555003548,\n",
              " 0.14: 0.758694109297374,\n",
              " 0.145: 0.7586497515968772,\n",
              " 0.15: 0.7586497515968772,\n",
              " 0.155: 0.7582948899929027,\n",
              " 0.16: 0.7581618168914124,\n",
              " 0.165: 0.7581174591909156,\n",
              " 0.17: 0.7581174591909156,\n",
              " 0.17500000000000002: 0.7578069552874379,\n",
              " 0.18: 0.7577182398864443,\n",
              " 0.185: 0.7575408090844571,\n",
              " 0.19: 0.7571859474804826,\n",
              " 0.195: 0.757097232079489,\n",
              " 0.2: 0.7569641589779986,\n",
              " 0.20500000000000002: 0.756875443577005,\n",
              " 0.21: 0.7567423704755145,\n",
              " 0.215: 0.7563431511710433,\n",
              " 0.22: 0.7563431511710433,\n",
              " 0.225: 0.7562544357700497,\n",
              " 0.23: 0.755943931866572,\n",
              " 0.23500000000000001: 0.7558552164655784,\n",
              " 0.24: 0.7558552164655784,\n",
              " 0.245: 0.7554559971611071,\n",
              " 0.25: 0.7553672817601136,\n",
              " 0.255: 0.7550124201561391,\n",
              " 0.26: 0.7547906316536551,\n",
              " 0.265: 0.7547019162526615,\n",
              " 0.27: 0.7546575585521647,\n",
              " 0.275: 0.7546132008516678,\n",
              " 0.28: 0.7545244854506742,\n",
              " 0.28500000000000003: 0.7544357700496807,\n",
              " 0.29: 0.754347054648687,\n",
              " 0.295: 0.7542583392476934,\n",
              " 0.3: 0.7540365507452094,\n",
              " 0.305: 0.7539034776437189,\n",
              " 0.31: 0.7538147622427254,\n",
              " 0.315: 0.7536816891412349,\n",
              " 0.32: 0.7535486160397445,\n",
              " 0.325: 0.7533268275372604,\n",
              " 0.33: 0.7533268275372604,\n",
              " 0.335: 0.7532824698367636,\n",
              " 0.34: 0.7531493967352733,\n",
              " 0.34500000000000003: 0.7531050390347764,\n",
              " 0.35000000000000003: 0.7530163236337828,\n",
              " 0.355: 0.7528388928317956,\n",
              " 0.36: 0.7527945351312988,\n",
              " 0.365: 0.7526614620298083,\n",
              " 0.37: 0.7525727466288148,\n",
              " 0.375: 0.7524396735273243,\n",
              " 0.38: 0.752306600425834,\n",
              " 0.385: 0.7522178850248403,\n",
              " 0.39: 0.7521735273243435,\n",
              " 0.395: 0.752040454222853,\n",
              " 0.4: 0.751818665720369,\n",
              " 0.405: 0.7516412349183819,\n",
              " 0.41000000000000003: 0.7515081618168914,\n",
              " 0.41500000000000004: 0.751375088715401,\n",
              " 0.42: 0.7511976579134138,\n",
              " 0.425: 0.7510645848119234,\n",
              " 0.43: 0.7509758694109298,\n",
              " 0.435: 0.7509758694109298,\n",
              " 0.44: 0.7507984386089425,\n",
              " 0.445: 0.7507097232079489,\n",
              " 0.45: 0.7506653655074521,\n",
              " 0.455: 0.7506210078069553,\n",
              " 0.46: 0.7503992193044713,\n",
              " 0.465: 0.7503105039034776,\n",
              " 0.47000000000000003: 0.7503105039034776,\n",
              " 0.47500000000000003: 0.750221788502484,\n",
              " 0.48: 0.7499556422995032,\n",
              " 0.485: 0.7498669268985095,\n",
              " 0.49: 0.7496894960965224,\n",
              " 0.495: 0.7494233498935415}"
            ]
          },
          "execution_count": 82,
          "metadata": {},
          "output_type": "execute_result"
        }
      ],
      "source": [
        "np.max(acc)"
      ]
    },
    {
      "cell_type": "code",
      "execution_count": null,
      "metadata": {},
      "outputs": [
        {
          "data": {
            "text/plain": [
              "0.4055074"
            ]
          },
          "execution_count": 83,
          "metadata": {},
          "output_type": "execute_result"
        }
      ],
      "source": [
        "np.mean(pred_y)"
      ]
    },
    {
      "cell_type": "code",
      "execution_count": null,
      "metadata": {},
      "outputs": [
        {
          "data": {
            "text/plain": [
              "0     0\n",
              "1     0\n",
              "2     1\n",
              "3     0\n",
              "4     0\n",
              "     ..\n",
              "95    0\n",
              "96    0\n",
              "97    0\n",
              "98    0\n",
              "99    1\n",
              "Name: attack_category, Length: 100, dtype: int64"
            ]
          },
          "execution_count": 84,
          "metadata": {},
          "output_type": "execute_result"
        }
      ],
      "source": [
        "train_Y_bin[0:100]"
      ]
    },
    {
      "cell_type": "code",
      "execution_count": null,
      "metadata": {},
      "outputs": [
        {
          "data": {
            "text/plain": [
              "12833"
            ]
          },
          "execution_count": 85,
          "metadata": {},
          "output_type": "execute_result"
        }
      ],
      "source": [
        "a = 0\n",
        "for i in range(len(test_x)):\n",
        "    if test_Y_bin[i] == 1:\n",
        "        a += 1\n",
        "a"
      ]
    },
    {
      "cell_type": "code",
      "execution_count": null,
      "metadata": {},
      "outputs": [
        {
          "data": {
            "text/plain": [
              "pandas.core.series.Series"
            ]
          },
          "execution_count": 86,
          "metadata": {},
          "output_type": "execute_result"
        }
      ],
      "source": [
        "type(train_Y_bin)"
      ]
    },
    {
      "cell_type": "code",
      "execution_count": null,
      "metadata": {},
      "outputs": [],
      "source": [
        "train_x_view = train_x.reshape(-1, 118)"
      ]
    },
    {
      "cell_type": "code",
      "execution_count": null,
      "metadata": {},
      "outputs": [
        {
          "data": {
            "text/plain": [
              "42908.0"
            ]
          },
          "execution_count": 88,
          "metadata": {},
          "output_type": "execute_result"
        }
      ],
      "source": [
        "np.max(train_x)"
      ]
    },
    {
      "cell_type": "code",
      "execution_count": null,
      "metadata": {},
      "outputs": [
        {
          "data": {
            "text/plain": [
              "array([[0.00000000e+00, 3.55806412e-07, 0.00000000e+00, ...,\n",
              "        0.00000000e+00, 0.00000000e+00, 0.00000000e+00],\n",
              "       [0.00000000e+00, 1.05799870e-07, 0.00000000e+00, ...,\n",
              "        0.00000000e+00, 0.00000000e+00, 0.00000000e+00],\n",
              "       [0.00000000e+00, 0.00000000e+00, 0.00000000e+00, ...,\n",
              "        0.00000000e+00, 0.00000000e+00, 0.00000000e+00],\n",
              "       ...,\n",
              "       [0.00000000e+00, 1.61670897e-06, 2.93143779e-07, ...,\n",
              "        0.00000000e+00, 0.00000000e+00, 0.00000000e+00],\n",
              "       [0.00000000e+00, 0.00000000e+00, 0.00000000e+00, ...,\n",
              "        0.00000000e+00, 0.00000000e+00, 0.00000000e+00],\n",
              "       [0.00000000e+00, 1.09423153e-07, 0.00000000e+00, ...,\n",
              "        0.00000000e+00, 0.00000000e+00, 0.00000000e+00]])"
            ]
          },
          "execution_count": 89,
          "metadata": {},
          "output_type": "execute_result"
        }
      ],
      "source": [
        "train_x_view"
      ]
    },
    {
      "cell_type": "code",
      "execution_count": null,
      "metadata": {},
      "outputs": [],
      "source": []
    }
  ],
  "metadata": {
    "colab": {
      "include_colab_link": true,
      "name": "Predicting Network Attacks.ipynb",
      "provenance": [],
      "toc_visible": true
    },
    "kernelspec": {
      "display_name": "Python 3 (ipykernel)",
      "language": "python",
      "name": "python3"
    },
    "language_info": {
      "codemirror_mode": {
        "name": "ipython",
        "version": 3
      },
      "file_extension": ".py",
      "mimetype": "text/x-python",
      "name": "python",
      "nbconvert_exporter": "python",
      "pygments_lexer": "ipython3",
      "version": "3.10.12"
    }
  },
  "nbformat": 4,
  "nbformat_minor": 0
}
