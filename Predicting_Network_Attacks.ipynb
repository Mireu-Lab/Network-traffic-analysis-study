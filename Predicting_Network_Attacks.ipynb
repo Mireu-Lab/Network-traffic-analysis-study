{
  "cells": [
    {
      "cell_type": "code",
      "execution_count": 36,
      "metadata": {
        "colab": {},
        "colab_type": "code",
        "id": "yb0-OE5hlusS"
      },
      "outputs": [],
      "source": [
        "import os\n",
        "from collections import defaultdict\n",
        "import pandas as pd\n",
        "import numpy as np\n",
        "import matplotlib.pyplot as plt\n",
        "%matplotlib inline\n",
        "import keras\n",
        "import tensorflow as tf\n",
        "from keras.layers import Conv1D, MaxPooling1D, Flatten, Dense, BatchNormalization\n",
        "from sklearn.preprocessing import MinMaxScaler\n",
        "from keras.models import Sequential"
      ]
    },
    {
      "cell_type": "code",
      "execution_count": 37,
      "metadata": {
        "colab": {},
        "colab_type": "code",
        "id": "ueVXbc61l56U"
      },
      "outputs": [],
      "source": [
        "#os.listdir()\n",
        "dataset_root = os.path.join(os.getcwd(),'Datasets/KDD')"
      ]
    },
    {
      "cell_type": "code",
      "execution_count": 38,
      "metadata": {
        "colab": {},
        "colab_type": "code",
        "id": "oPauQXOAmGIB"
      },
      "outputs": [],
      "source": [
        "train_file = os.path.join(dataset_root, 'KDDTrain+.csv')\n",
        "test_file = os.path.join(dataset_root, 'KDDTest+.csv')"
      ]
    },
    {
      "cell_type": "code",
      "execution_count": 39,
      "metadata": {
        "colab": {},
        "colab_type": "code",
        "id": "FHDfemmsmcNg"
      },
      "outputs": [],
      "source": [
        "header_names = ['duration', 'protocol_type', 'service', 'flag', 'src_bytes', 'dst_bytes', 'land', 'wrong_fragment', 'urgent', 'hot', 'num_failed_logins', 'logged_in', 'num_compromised', 'root_shell', 'su_attempted', 'num_root', 'num_file_creations', 'num_shells', 'num_access_files', 'num_outbound_cmds', 'is_host_login', 'is_guest_login', 'count', 'srv_count', 'serror_rate', 'srv_serror_rate', 'rerror_rate', 'srv_rerror_rate', 'same_srv_rate', 'diff_srv_rate', 'srv_diff_host_rate', 'dst_host_count', 'dst_host_srv_count', 'dst_host_same_srv_rate', 'dst_host_diff_srv_rate', 'dst_host_same_src_port_rate', 'dst_host_srv_diff_host_rate', 'dst_host_serror_rate', 'dst_host_srv_serror_rate', 'dst_host_rerror_rate', 'dst_host_srv_rerror_rate', 'attack_type', 'success_pred']"
      ]
    },
    {
      "cell_type": "code",
      "execution_count": 40,
      "metadata": {
        "colab": {},
        "colab_type": "code",
        "id": "vU2FBTK2o_re"
      },
      "outputs": [],
      "source": [
        "col_names = np.array(header_names)\n",
        "\n",
        "nominal_idx = [1, 2, 3]\n",
        "binary_idx = [6, 11, 13, 14, 20, 21]\n",
        "numeric_idx = list(set(range(41)).difference(nominal_idx).difference(binary_idx))\n",
        "\n",
        "nominal_cols = col_names[nominal_idx].tolist()\n",
        "binary_cols = col_names[binary_idx].tolist()\n",
        "numeric_cols = col_names[numeric_idx].tolist()"
      ]
    },
    {
      "cell_type": "code",
      "execution_count": 41,
      "metadata": {
        "colab": {},
        "colab_type": "code",
        "id": "kh9cxuCYqDvc"
      },
      "outputs": [],
      "source": [
        "category = defaultdict(list)\n",
        "category['benign'].append('normal')\n",
        "\n",
        "name = os.path.join(dataset_root,'name.txt')\n",
        "with open(name, 'r') as f:\n",
        "    for line in f.readlines():\n",
        "        #print(line)\n",
        "        attack, cat = line.strip().split(' ')\n",
        "        category[cat].append(attack)\n",
        "\n",
        "attack_mapping = dict((v,k) for k in category for v in category[k])"
      ]
    },
    {
      "cell_type": "code",
      "execution_count": 42,
      "metadata": {
        "colab": {
          "base_uri": "https://localhost:8080/",
          "height": 744
        },
        "colab_type": "code",
        "id": "i62KQmLkqJHI",
        "outputId": "f9ad0b2e-6cd8-43b7-f73d-3be184da89c5"
      },
      "outputs": [
        {
          "data": {
            "text/plain": [
              "{'normal': 'benign',\n",
              " 'apache2': 'dos',\n",
              " 'back': 'dos',\n",
              " 'land': 'dos',\n",
              " 'mailbomb': 'dos',\n",
              " 'neptune': 'dos',\n",
              " 'pod': 'dos',\n",
              " 'processtable': 'dos',\n",
              " 'smurf': 'dos',\n",
              " 'teardrop': 'dos',\n",
              " 'udpstorm': 'dos',\n",
              " 'worm': 'dos',\n",
              " 'buffer_overflow': 'u2r',\n",
              " 'loadmodule': 'u2r',\n",
              " 'perl': 'u2r',\n",
              " 'ps': 'u2r',\n",
              " 'rootkit': 'u2r',\n",
              " 'sqlattack': 'u2r',\n",
              " 'xterm': 'u2r',\n",
              " 'ftp_write': 'r2l',\n",
              " 'guess_passwd': 'r2l',\n",
              " 'httptunnel': 'r2l',\n",
              " 'imap': 'r2l',\n",
              " 'multihop': 'r2l',\n",
              " 'named': 'r2l',\n",
              " 'phf': 'r2l',\n",
              " 'sendmail': 'r2l',\n",
              " 'snmpgetattack': 'r2l',\n",
              " 'snmpguess': 'r2l',\n",
              " 'spy': 'r2l',\n",
              " 'warezclient': 'r2l',\n",
              " 'warezmaster': 'r2l',\n",
              " 'xlock': 'r2l',\n",
              " 'xsnoop': 'r2l',\n",
              " 'ipsweep': 'probe',\n",
              " 'mscan': 'probe',\n",
              " 'nmap': 'probe',\n",
              " 'portsweep': 'probe',\n",
              " 'saint': 'probe',\n",
              " 'satan': 'probe'}"
            ]
          },
          "execution_count": 42,
          "metadata": {},
          "output_type": "execute_result"
        }
      ],
      "source": [
        "attack_mapping"
      ]
    },
    {
      "cell_type": "code",
      "execution_count": 43,
      "metadata": {
        "colab": {},
        "colab_type": "code",
        "id": "-6i9cGPsrPzP"
      },
      "outputs": [],
      "source": [
        "DataSetKDDTrain = pd.read_csv(train_file, names=header_names)\n",
        "DataSetKDDTrain['attack_category'] = DataSetKDDTrain['attack_type'].map(lambda x: attack_mapping[x])\n",
        "DataSetKDDTrain.drop(['success_pred'], axis=1, inplace=True)\n",
        "    \n",
        "DataSetKDDTest = pd.read_csv(test_file, names=header_names)\n",
        "DataSetKDDTest['attack_category'] = DataSetKDDTest['attack_type'].map(lambda x: attack_mapping[x])\n",
        "DataSetKDDTest.drop(['success_pred'], axis=1, inplace=True)"
      ]
    },
    {
      "cell_type": "code",
      "execution_count": 44,
      "metadata": {},
      "outputs": [],
      "source": [
        "src_train = DataSetKDDTrain['src_bytes']\n",
        "src_test = DataSetKDDTest['src_bytes']\n",
        "dst_train = DataSetKDDTrain['dst_bytes']\n",
        "dst_test = DataSetKDDTest['dst_bytes']"
      ]
    },
    {
      "cell_type": "code",
      "execution_count": 45,
      "metadata": {},
      "outputs": [
        {
          "data": {
            "text/plain": [
              "(1379963888, 62825648, 1309937401, 1345927)"
            ]
          },
          "execution_count": 45,
          "metadata": {},
          "output_type": "execute_result"
        }
      ],
      "source": [
        "np.max(src_train), np.max(src_test), np.max(dst_train), np.max(dst_test)"
      ]
    },
    {
      "cell_type": "code",
      "execution_count": 46,
      "metadata": {},
      "outputs": [],
      "source": [
        "src_train = np.array(src_train).reshape(-1, 1)\n",
        "src_test = np.array(src_test).reshape(-1, 1)\n",
        "dst_train = np.array(dst_train).reshape(-1, 1)\n",
        "dst_test = np.array(dst_test).reshape(-1, 1)"
      ]
    },
    {
      "cell_type": "code",
      "execution_count": 47,
      "metadata": {},
      "outputs": [],
      "source": [
        "scaler = MinMaxScaler(feature_range=(0, 1))\n",
        "src_train = scaler.fit_transform(src_train)\n",
        "dst_train = scaler.fit_transform(dst_train)\n",
        "src_test = scaler.fit_transform(src_test)\n",
        "dst_test = scaler.fit_transform(dst_test)"
      ]
    },
    {
      "cell_type": "code",
      "execution_count": 48,
      "metadata": {},
      "outputs": [],
      "source": [
        "DataSetKDDTrain['src_bytes'] = src_train\n",
        "DataSetKDDTest['src_bytes'] = src_test\n",
        "DataSetKDDTrain['dst_bytes'] = dst_train\n",
        "DataSetKDDTest['dst_bytes'] = dst_test"
      ]
    },
    {
      "cell_type": "code",
      "execution_count": 49,
      "metadata": {},
      "outputs": [],
      "source": [
        "for j in zip(range(len(set(DataSetKDDTrain[\"protocol_type\"]))), list(set(DataSetKDDTrain[\"protocol_type\"]))):\n",
        "    DataSetKDDTrain.loc[(DataSetKDDTrain['protocol_type'] == j[1]), \"protocol_type\"] = j[0]\n",
        "\n",
        "for j in zip(range(len(set(DataSetKDDTrain[\"service\"]))), list(set(DataSetKDDTrain[\"service\"]))):\n",
        "    DataSetKDDTrain.loc[(DataSetKDDTrain['service'] == j[1]), \"service\"] = j[0]\n",
        "    \n",
        "for j in zip(range(len(set(DataSetKDDTrain[\"flag\"]))), list(set(DataSetKDDTrain[\"flag\"]))):\n",
        "    DataSetKDDTrain.loc[(DataSetKDDTrain['flag'] == j[1]), \"flag\"] = j[0]"
      ]
    },
    {
      "cell_type": "code",
      "execution_count": 50,
      "metadata": {},
      "outputs": [],
      "source": [
        "for j in zip(range(len(set(DataSetKDDTest[\"protocol_type\"]))), list(set(DataSetKDDTest[\"protocol_type\"]))):\n",
        "    DataSetKDDTest.loc[(DataSetKDDTest['protocol_type'] == j[1]), \"protocol_type\"] = j[0]\n",
        "\n",
        "for j in zip(range(len(set(DataSetKDDTest[\"service\"]))), list(set(DataSetKDDTest[\"service\"]))):\n",
        "    DataSetKDDTest.loc[(DataSetKDDTest['service'] == j[1]), \"service\"] = j[0]\n",
        "    \n",
        "for j in zip(range(len(set(DataSetKDDTest[\"flag\"]))), list(set(DataSetKDDTest[\"flag\"]))):\n",
        "    DataSetKDDTest.loc[(DataSetKDDTest['flag'] == j[1]), \"flag\"] = j[0]"
      ]
    },
    {
      "cell_type": "code",
      "execution_count": 51,
      "metadata": {
        "colab": {},
        "colab_type": "code",
        "id": "745IJDYfrd_A"
      },
      "outputs": [],
      "source": [
        "train_attack_types = DataSetKDDTrain['attack_type'].value_counts()\n",
        "train_attack_cats = DataSetKDDTrain['attack_category'].value_counts()"
      ]
    },
    {
      "cell_type": "code",
      "execution_count": 52,
      "metadata": {
        "colab": {},
        "colab_type": "code",
        "id": "4Ky3JjjmtLWb"
      },
      "outputs": [],
      "source": [
        "test_attack_types = DataSetKDDTest['attack_type'].value_counts()\n",
        "test_attack_cats = DataSetKDDTest['attack_category'].value_counts()"
      ]
    },
    {
      "cell_type": "code",
      "execution_count": 53,
      "metadata": {
        "colab": {
          "base_uri": "https://localhost:8080/",
          "height": 639
        },
        "colab_type": "code",
        "id": "jDU08ZNy0SIS",
        "outputId": "370c7e63-fbf5-4b48-f14a-34ffa7f34af1"
      },
      "outputs": [
        {
          "data": {
            "text/plain": [
              "<Axes: ylabel='attack_type'>"
            ]
          },
          "execution_count": 53,
          "metadata": {},
          "output_type": "execute_result"
        },
        {
          "data": {
            "image/png": "[encoded data removed]",
            "text/plain": [
              "<Figure size 2000x1000 with 1 Axes>"
            ]
          },
          "metadata": {},
          "output_type": "display_data"
        }
      ],
      "source": [
        "train_attack_types.plot(kind='barh', figsize=(20,10), fontsize=20)"
      ]
    },
    {
      "cell_type": "code",
      "execution_count": 54,
      "metadata": {
        "colab": {
          "base_uri": "https://localhost:8080/",
          "height": 649
        },
        "colab_type": "code",
        "id": "peJ99axm0TsI",
        "outputId": "60b77f4b-44d4-4072-ecaa-3a76f9f9a9b3"
      },
      "outputs": [
        {
          "data": {
            "text/plain": [
              "<Axes: ylabel='attack_category'>"
            ]
          },
          "execution_count": 54,
          "metadata": {},
          "output_type": "execute_result"
        },
        {
          "data": {
            "image/png": "[encoded data removed]",
            "text/plain": [
              "<Figure size 2000x1000 with 1 Axes>"
            ]
          },
          "metadata": {},
          "output_type": "display_data"
        }
      ],
      "source": [
        "train_attack_cats.plot(kind='barh', figsize=(20,10), fontsize=30)"
      ]
    },
    {
      "cell_type": "code",
      "execution_count": 55,
      "metadata": {
        "colab": {
          "base_uri": "https://localhost:8080/",
          "height": 649
        },
        "colab_type": "code",
        "id": "6-auNLpX0X5X",
        "outputId": "471fe78f-84d5-4e8b-a5df-164c3ceb1177"
      },
      "outputs": [
        {
          "data": {
            "text/plain": [
              "<Axes: ylabel='attack_category'>"
            ]
          },
          "execution_count": 55,
          "metadata": {},
          "output_type": "execute_result"
        },
        {
          "data": {
            "image/png": "[encoded data removed]",
            "text/plain": [
              "<Figure size 2000x1000 with 1 Axes>"
            ]
          },
          "metadata": {},
          "output_type": "display_data"
        }
      ],
      "source": [
        "test_attack_cats.plot(kind='barh', figsize=(20,10), fontsize=30)"
      ]
    },
    {
      "cell_type": "code",
      "execution_count": 56,
      "metadata": {
        "colab": {
          "base_uri": "https://localhost:8080/",
          "height": 237
        },
        "colab_type": "code",
        "id": "9p5yxo6x0hr4",
        "outputId": "6babb1e7-e485-4c39-8152-16ab9394cd9b"
      },
      "outputs": [
        {
          "data": {
            "text/html": [
              "<div>\n",
              "<style scoped>\n",
              "    .dataframe tbody tr th:only-of-type {\n",
              "        vertical-align: middle;\n",
              "    }\n",
              "\n",
              "    .dataframe tbody tr th {\n",
              "        vertical-align: top;\n",
              "    }\n",
              "\n",
              "    .dataframe thead th {\n",
              "        text-align: right;\n",
              "    }\n",
              "</style>\n",
              "<table border=\"1\" class=\"dataframe\">\n",
              "  <thead>\n",
              "    <tr style=\"text-align: right;\">\n",
              "      <th></th>\n",
              "      <th>count</th>\n",
              "      <th>mean</th>\n",
              "      <th>std</th>\n",
              "      <th>min</th>\n",
              "      <th>25%</th>\n",
              "      <th>50%</th>\n",
              "      <th>75%</th>\n",
              "      <th>max</th>\n",
              "    </tr>\n",
              "  </thead>\n",
              "  <tbody>\n",
              "    <tr>\n",
              "      <th>land</th>\n",
              "      <td>125973.0</td>\n",
              "      <td>0.000198</td>\n",
              "      <td>0.014086</td>\n",
              "      <td>0.0</td>\n",
              "      <td>0.0</td>\n",
              "      <td>0.0</td>\n",
              "      <td>0.0</td>\n",
              "      <td>1.0</td>\n",
              "    </tr>\n",
              "    <tr>\n",
              "      <th>logged_in</th>\n",
              "      <td>125973.0</td>\n",
              "      <td>0.395736</td>\n",
              "      <td>0.489010</td>\n",
              "      <td>0.0</td>\n",
              "      <td>0.0</td>\n",
              "      <td>0.0</td>\n",
              "      <td>1.0</td>\n",
              "      <td>1.0</td>\n",
              "    </tr>\n",
              "    <tr>\n",
              "      <th>root_shell</th>\n",
              "      <td>125973.0</td>\n",
              "      <td>0.001342</td>\n",
              "      <td>0.036603</td>\n",
              "      <td>0.0</td>\n",
              "      <td>0.0</td>\n",
              "      <td>0.0</td>\n",
              "      <td>0.0</td>\n",
              "      <td>1.0</td>\n",
              "    </tr>\n",
              "    <tr>\n",
              "      <th>su_attempted</th>\n",
              "      <td>125973.0</td>\n",
              "      <td>0.001103</td>\n",
              "      <td>0.045154</td>\n",
              "      <td>0.0</td>\n",
              "      <td>0.0</td>\n",
              "      <td>0.0</td>\n",
              "      <td>0.0</td>\n",
              "      <td>2.0</td>\n",
              "    </tr>\n",
              "    <tr>\n",
              "      <th>is_host_login</th>\n",
              "      <td>125973.0</td>\n",
              "      <td>0.000008</td>\n",
              "      <td>0.002817</td>\n",
              "      <td>0.0</td>\n",
              "      <td>0.0</td>\n",
              "      <td>0.0</td>\n",
              "      <td>0.0</td>\n",
              "      <td>1.0</td>\n",
              "    </tr>\n",
              "    <tr>\n",
              "      <th>is_guest_login</th>\n",
              "      <td>125973.0</td>\n",
              "      <td>0.009423</td>\n",
              "      <td>0.096612</td>\n",
              "      <td>0.0</td>\n",
              "      <td>0.0</td>\n",
              "      <td>0.0</td>\n",
              "      <td>0.0</td>\n",
              "      <td>1.0</td>\n",
              "    </tr>\n",
              "  </tbody>\n",
              "</table>\n",
              "</div>"
            ],
            "text/plain": [
              "                   count      mean       std  min  25%  50%  75%  max\n",
              "land            125973.0  0.000198  0.014086  0.0  0.0  0.0  0.0  1.0\n",
              "logged_in       125973.0  0.395736  0.489010  0.0  0.0  0.0  1.0  1.0\n",
              "root_shell      125973.0  0.001342  0.036603  0.0  0.0  0.0  0.0  1.0\n",
              "su_attempted    125973.0  0.001103  0.045154  0.0  0.0  0.0  0.0  2.0\n",
              "is_host_login   125973.0  0.000008  0.002817  0.0  0.0  0.0  0.0  1.0\n",
              "is_guest_login  125973.0  0.009423  0.096612  0.0  0.0  0.0  0.0  1.0"
            ]
          },
          "execution_count": 56,
          "metadata": {},
          "output_type": "execute_result"
        }
      ],
      "source": [
        "DataSetKDDTrain[binary_cols].describe().transpose()"
      ]
    },
    {
      "cell_type": "code",
      "execution_count": 57,
      "metadata": {
        "colab": {
          "base_uri": "https://localhost:8080/",
          "height": 108
        },
        "colab_type": "code",
        "id": "Ol8E1TzZ0oDt",
        "outputId": "220cfe14-89af-4407-c2af-2ba703aefe55"
      },
      "outputs": [
        {
          "data": {
            "text/plain": [
              "su_attempted\n",
              "0    125893\n",
              "1        21\n",
              "2        59\n",
              "dtype: int64"
            ]
          },
          "execution_count": 57,
          "metadata": {},
          "output_type": "execute_result"
        }
      ],
      "source": [
        "DataSetKDDTrain.groupby(['su_attempted']).size()"
      ]
    },
    {
      "cell_type": "code",
      "execution_count": 58,
      "metadata": {
        "colab": {
          "base_uri": "https://localhost:8080/",
          "height": 90
        },
        "colab_type": "code",
        "id": "OvgOC_Z413oO",
        "outputId": "668e2878-b587-40b7-85d6-57eb47cae10c"
      },
      "outputs": [
        {
          "data": {
            "text/plain": [
              "su_attempted\n",
              "0    125952\n",
              "1        21\n",
              "dtype: int64"
            ]
          },
          "execution_count": 58,
          "metadata": {},
          "output_type": "execute_result"
        }
      ],
      "source": [
        "DataSetKDDTrain['su_attempted'].replace(2, 0, inplace=True)\n",
        "DataSetKDDTest['su_attempted'].replace(2, 0, inplace=True)\n",
        "DataSetKDDTrain.groupby(['su_attempted']).size()"
      ]
    },
    {
      "cell_type": "code",
      "execution_count": 59,
      "metadata": {
        "colab": {
          "base_uri": "https://localhost:8080/",
          "height": 72
        },
        "colab_type": "code",
        "id": "XdxhBdhR18v9",
        "outputId": "6032e938-e697-4093-8f10-c604c24cc77a"
      },
      "outputs": [
        {
          "data": {
            "text/plain": [
              "num_outbound_cmds\n",
              "0    125973\n",
              "dtype: int64"
            ]
          },
          "execution_count": 59,
          "metadata": {},
          "output_type": "execute_result"
        }
      ],
      "source": [
        "DataSetKDDTrain.groupby(['num_outbound_cmds']).size()"
      ]
    },
    {
      "cell_type": "code",
      "execution_count": 60,
      "metadata": {
        "colab": {},
        "colab_type": "code",
        "id": "4CQ2iYih2HCB"
      },
      "outputs": [],
      "source": [
        "DataSetKDDTrain.drop('num_outbound_cmds', axis = 1, inplace=True)\n",
        "DataSetKDDTest.drop('num_outbound_cmds', axis = 1, inplace=True)\n",
        "numeric_cols.remove('num_outbound_cmds')"
      ]
    },
    {
      "cell_type": "code",
      "execution_count": 61,
      "metadata": {
        "colab": {},
        "colab_type": "code",
        "id": "ilZbLRTV2JwQ"
      },
      "outputs": [],
      "source": [
        "train_Y = DataSetKDDTrain['attack_category']\n",
        "train_x_raw = DataSetKDDTrain.drop(['attack_category','attack_type'], axis=1)\n",
        "test_Y = DataSetKDDTest['attack_category']\n",
        "test_x_raw = DataSetKDDTest.drop(['attack_category','attack_type'], axis=1)"
      ]
    },
    {
      "cell_type": "code",
      "execution_count": 92,
      "metadata": {
        "colab": {},
        "colab_type": "code",
        "id": "MnGYnchi2NY8"
      },
      "outputs": [],
      "source": [
        "combined_df_raw = pd.concat([train_x_raw, test_x_raw])\n",
        "combined_df = pd.get_dummies(combined_df_raw, columns=nominal_cols, drop_first=True)\n",
        "\n",
        "train_x = combined_df[:len(train_x_raw)]\n",
        "test_x = combined_df[len(train_x_raw):]\n",
        "\n",
        "# Store dummy variable feature names\n",
        "dummy_variables = list(set(train_x)-set(combined_df_raw))"
      ]
    },
    {
      "cell_type": "code",
      "execution_count": 93,
      "metadata": {
        "colab": {
          "base_uri": "https://localhost:8080/",
          "height": 349
        },
        "colab_type": "code",
        "id": "GGHCvWRH2PAY",
        "outputId": "b2d080c6-c49d-4a5e-db7b-538803acb6d2"
      },
      "outputs": [
        {
          "data": {
            "text/html": [
              "<div>\n",
              "<style scoped>\n",
              "    .dataframe tbody tr th:only-of-type {\n",
              "        vertical-align: middle;\n",
              "    }\n",
              "\n",
              "    .dataframe tbody tr th {\n",
              "        vertical-align: top;\n",
              "    }\n",
              "\n",
              "    .dataframe thead th {\n",
              "        text-align: right;\n",
              "    }\n",
              "</style>\n",
              "<table border=\"1\" class=\"dataframe\">\n",
              "  <thead>\n",
              "    <tr style=\"text-align: right;\">\n",
              "      <th></th>\n",
              "      <th>duration</th>\n",
              "      <th>src_bytes</th>\n",
              "      <th>dst_bytes</th>\n",
              "      <th>land</th>\n",
              "      <th>wrong_fragment</th>\n",
              "      <th>urgent</th>\n",
              "      <th>hot</th>\n",
              "      <th>num_failed_logins</th>\n",
              "      <th>logged_in</th>\n",
              "      <th>num_compromised</th>\n",
              "      <th>...</th>\n",
              "      <th>dst_host_count</th>\n",
              "      <th>dst_host_srv_count</th>\n",
              "      <th>dst_host_same_srv_rate</th>\n",
              "      <th>dst_host_diff_srv_rate</th>\n",
              "      <th>dst_host_same_src_port_rate</th>\n",
              "      <th>dst_host_srv_diff_host_rate</th>\n",
              "      <th>dst_host_serror_rate</th>\n",
              "      <th>dst_host_srv_serror_rate</th>\n",
              "      <th>dst_host_rerror_rate</th>\n",
              "      <th>dst_host_srv_rerror_rate</th>\n",
              "    </tr>\n",
              "  </thead>\n",
              "  <tbody>\n",
              "    <tr>\n",
              "      <th>count</th>\n",
              "      <td>125973.00000</td>\n",
              "      <td>1.259730e+05</td>\n",
              "      <td>1.259730e+05</td>\n",
              "      <td>125973.000000</td>\n",
              "      <td>125973.000000</td>\n",
              "      <td>125973.000000</td>\n",
              "      <td>125973.000000</td>\n",
              "      <td>125973.000000</td>\n",
              "      <td>125973.000000</td>\n",
              "      <td>125973.000000</td>\n",
              "      <td>...</td>\n",
              "      <td>125973.000000</td>\n",
              "      <td>125973.000000</td>\n",
              "      <td>125973.000000</td>\n",
              "      <td>125973.000000</td>\n",
              "      <td>125973.000000</td>\n",
              "      <td>125973.000000</td>\n",
              "      <td>125973.000000</td>\n",
              "      <td>125973.000000</td>\n",
              "      <td>125973.000000</td>\n",
              "      <td>125973.000000</td>\n",
              "    </tr>\n",
              "    <tr>\n",
              "      <th>mean</th>\n",
              "      <td>287.14465</td>\n",
              "      <td>3.302024e-05</td>\n",
              "      <td>1.509928e-05</td>\n",
              "      <td>0.000198</td>\n",
              "      <td>0.022687</td>\n",
              "      <td>0.000111</td>\n",
              "      <td>0.204409</td>\n",
              "      <td>0.001222</td>\n",
              "      <td>0.395736</td>\n",
              "      <td>0.279250</td>\n",
              "      <td>...</td>\n",
              "      <td>182.148945</td>\n",
              "      <td>115.653005</td>\n",
              "      <td>0.521242</td>\n",
              "      <td>0.082951</td>\n",
              "      <td>0.148379</td>\n",
              "      <td>0.032542</td>\n",
              "      <td>0.284452</td>\n",
              "      <td>0.278485</td>\n",
              "      <td>0.118832</td>\n",
              "      <td>0.120240</td>\n",
              "    </tr>\n",
              "    <tr>\n",
              "      <th>std</th>\n",
              "      <td>2604.51531</td>\n",
              "      <td>4.253974e-03</td>\n",
              "      <td>3.069818e-03</td>\n",
              "      <td>0.014086</td>\n",
              "      <td>0.253530</td>\n",
              "      <td>0.014366</td>\n",
              "      <td>2.149968</td>\n",
              "      <td>0.045239</td>\n",
              "      <td>0.489010</td>\n",
              "      <td>23.942042</td>\n",
              "      <td>...</td>\n",
              "      <td>99.206213</td>\n",
              "      <td>110.702741</td>\n",
              "      <td>0.448949</td>\n",
              "      <td>0.188922</td>\n",
              "      <td>0.308997</td>\n",
              "      <td>0.112564</td>\n",
              "      <td>0.444784</td>\n",
              "      <td>0.445669</td>\n",
              "      <td>0.306557</td>\n",
              "      <td>0.319459</td>\n",
              "    </tr>\n",
              "    <tr>\n",
              "      <th>min</th>\n",
              "      <td>0.00000</td>\n",
              "      <td>0.000000e+00</td>\n",
              "      <td>0.000000e+00</td>\n",
              "      <td>0.000000</td>\n",
              "      <td>0.000000</td>\n",
              "      <td>0.000000</td>\n",
              "      <td>0.000000</td>\n",
              "      <td>0.000000</td>\n",
              "      <td>0.000000</td>\n",
              "      <td>0.000000</td>\n",
              "      <td>...</td>\n",
              "      <td>0.000000</td>\n",
              "      <td>0.000000</td>\n",
              "      <td>0.000000</td>\n",
              "      <td>0.000000</td>\n",
              "      <td>0.000000</td>\n",
              "      <td>0.000000</td>\n",
              "      <td>0.000000</td>\n",
              "      <td>0.000000</td>\n",
              "      <td>0.000000</td>\n",
              "      <td>0.000000</td>\n",
              "    </tr>\n",
              "    <tr>\n",
              "      <th>25%</th>\n",
              "      <td>0.00000</td>\n",
              "      <td>0.000000e+00</td>\n",
              "      <td>0.000000e+00</td>\n",
              "      <td>0.000000</td>\n",
              "      <td>0.000000</td>\n",
              "      <td>0.000000</td>\n",
              "      <td>0.000000</td>\n",
              "      <td>0.000000</td>\n",
              "      <td>0.000000</td>\n",
              "      <td>0.000000</td>\n",
              "      <td>...</td>\n",
              "      <td>82.000000</td>\n",
              "      <td>10.000000</td>\n",
              "      <td>0.050000</td>\n",
              "      <td>0.000000</td>\n",
              "      <td>0.000000</td>\n",
              "      <td>0.000000</td>\n",
              "      <td>0.000000</td>\n",
              "      <td>0.000000</td>\n",
              "      <td>0.000000</td>\n",
              "      <td>0.000000</td>\n",
              "    </tr>\n",
              "    <tr>\n",
              "      <th>50%</th>\n",
              "      <td>0.00000</td>\n",
              "      <td>3.188489e-08</td>\n",
              "      <td>0.000000e+00</td>\n",
              "      <td>0.000000</td>\n",
              "      <td>0.000000</td>\n",
              "      <td>0.000000</td>\n",
              "      <td>0.000000</td>\n",
              "      <td>0.000000</td>\n",
              "      <td>0.000000</td>\n",
              "      <td>0.000000</td>\n",
              "      <td>...</td>\n",
              "      <td>255.000000</td>\n",
              "      <td>63.000000</td>\n",
              "      <td>0.510000</td>\n",
              "      <td>0.020000</td>\n",
              "      <td>0.000000</td>\n",
              "      <td>0.000000</td>\n",
              "      <td>0.000000</td>\n",
              "      <td>0.000000</td>\n",
              "      <td>0.000000</td>\n",
              "      <td>0.000000</td>\n",
              "    </tr>\n",
              "    <tr>\n",
              "      <th>75%</th>\n",
              "      <td>0.00000</td>\n",
              "      <td>2.000052e-07</td>\n",
              "      <td>3.939120e-07</td>\n",
              "      <td>0.000000</td>\n",
              "      <td>0.000000</td>\n",
              "      <td>0.000000</td>\n",
              "      <td>0.000000</td>\n",
              "      <td>0.000000</td>\n",
              "      <td>1.000000</td>\n",
              "      <td>0.000000</td>\n",
              "      <td>...</td>\n",
              "      <td>255.000000</td>\n",
              "      <td>255.000000</td>\n",
              "      <td>1.000000</td>\n",
              "      <td>0.070000</td>\n",
              "      <td>0.060000</td>\n",
              "      <td>0.020000</td>\n",
              "      <td>1.000000</td>\n",
              "      <td>1.000000</td>\n",
              "      <td>0.000000</td>\n",
              "      <td>0.000000</td>\n",
              "    </tr>\n",
              "    <tr>\n",
              "      <th>max</th>\n",
              "      <td>42908.00000</td>\n",
              "      <td>1.000000e+00</td>\n",
              "      <td>1.000000e+00</td>\n",
              "      <td>1.000000</td>\n",
              "      <td>3.000000</td>\n",
              "      <td>3.000000</td>\n",
              "      <td>77.000000</td>\n",
              "      <td>5.000000</td>\n",
              "      <td>1.000000</td>\n",
              "      <td>7479.000000</td>\n",
              "      <td>...</td>\n",
              "      <td>255.000000</td>\n",
              "      <td>255.000000</td>\n",
              "      <td>1.000000</td>\n",
              "      <td>1.000000</td>\n",
              "      <td>1.000000</td>\n",
              "      <td>1.000000</td>\n",
              "      <td>1.000000</td>\n",
              "      <td>1.000000</td>\n",
              "      <td>1.000000</td>\n",
              "      <td>1.000000</td>\n",
              "    </tr>\n",
              "  </tbody>\n",
              "</table>\n",
              "<p>8 rows × 37 columns</p>\n",
              "</div>"
            ],
            "text/plain": [
              "           duration     src_bytes     dst_bytes           land  \\\n",
              "count  125973.00000  1.259730e+05  1.259730e+05  125973.000000   \n",
              "mean      287.14465  3.302024e-05  1.509928e-05       0.000198   \n",
              "std      2604.51531  4.253974e-03  3.069818e-03       0.014086   \n",
              "min         0.00000  0.000000e+00  0.000000e+00       0.000000   \n",
              "25%         0.00000  0.000000e+00  0.000000e+00       0.000000   \n",
              "50%         0.00000  3.188489e-08  0.000000e+00       0.000000   \n",
              "75%         0.00000  2.000052e-07  3.939120e-07       0.000000   \n",
              "max     42908.00000  1.000000e+00  1.000000e+00       1.000000   \n",
              "\n",
              "       wrong_fragment         urgent            hot  num_failed_logins  \\\n",
              "count   125973.000000  125973.000000  125973.000000      125973.000000   \n",
              "mean         0.022687       0.000111       0.204409           0.001222   \n",
              "std          0.253530       0.014366       2.149968           0.045239   \n",
              "min          0.000000       0.000000       0.000000           0.000000   \n",
              "25%          0.000000       0.000000       0.000000           0.000000   \n",
              "50%          0.000000       0.000000       0.000000           0.000000   \n",
              "75%          0.000000       0.000000       0.000000           0.000000   \n",
              "max          3.000000       3.000000      77.000000           5.000000   \n",
              "\n",
              "           logged_in  num_compromised  ...  dst_host_count  \\\n",
              "count  125973.000000    125973.000000  ...   125973.000000   \n",
              "mean        0.395736         0.279250  ...      182.148945   \n",
              "std         0.489010        23.942042  ...       99.206213   \n",
              "min         0.000000         0.000000  ...        0.000000   \n",
              "25%         0.000000         0.000000  ...       82.000000   \n",
              "50%         0.000000         0.000000  ...      255.000000   \n",
              "75%         1.000000         0.000000  ...      255.000000   \n",
              "max         1.000000      7479.000000  ...      255.000000   \n",
              "\n",
              "       dst_host_srv_count  dst_host_same_srv_rate  dst_host_diff_srv_rate  \\\n",
              "count       125973.000000           125973.000000           125973.000000   \n",
              "mean           115.653005                0.521242                0.082951   \n",
              "std            110.702741                0.448949                0.188922   \n",
              "min              0.000000                0.000000                0.000000   \n",
              "25%             10.000000                0.050000                0.000000   \n",
              "50%             63.000000                0.510000                0.020000   \n",
              "75%            255.000000                1.000000                0.070000   \n",
              "max            255.000000                1.000000                1.000000   \n",
              "\n",
              "       dst_host_same_src_port_rate  dst_host_srv_diff_host_rate  \\\n",
              "count                125973.000000                125973.000000   \n",
              "mean                      0.148379                     0.032542   \n",
              "std                       0.308997                     0.112564   \n",
              "min                       0.000000                     0.000000   \n",
              "25%                       0.000000                     0.000000   \n",
              "50%                       0.000000                     0.000000   \n",
              "75%                       0.060000                     0.020000   \n",
              "max                       1.000000                     1.000000   \n",
              "\n",
              "       dst_host_serror_rate  dst_host_srv_serror_rate  dst_host_rerror_rate  \\\n",
              "count         125973.000000             125973.000000         125973.000000   \n",
              "mean               0.284452                  0.278485              0.118832   \n",
              "std                0.444784                  0.445669              0.306557   \n",
              "min                0.000000                  0.000000              0.000000   \n",
              "25%                0.000000                  0.000000              0.000000   \n",
              "50%                0.000000                  0.000000              0.000000   \n",
              "75%                1.000000                  1.000000              0.000000   \n",
              "max                1.000000                  1.000000              1.000000   \n",
              "\n",
              "       dst_host_srv_rerror_rate  \n",
              "count             125973.000000  \n",
              "mean                   0.120240  \n",
              "std                    0.319459  \n",
              "min                    0.000000  \n",
              "25%                    0.000000  \n",
              "50%                    0.000000  \n",
              "75%                    0.000000  \n",
              "max                    1.000000  \n",
              "\n",
              "[8 rows x 37 columns]"
            ]
          },
          "execution_count": 93,
          "metadata": {},
          "output_type": "execute_result"
        }
      ],
      "source": [
        "train_x.describe()"
      ]
    },
    {
      "cell_type": "code",
      "execution_count": 64,
      "metadata": {
        "colab": {
          "base_uri": "https://localhost:8080/",
          "height": 181
        },
        "colab_type": "code",
        "id": "s3khTsJe2rRS",
        "outputId": "b15858d3-5c86-4dff-f498-a8589665e064"
      },
      "outputs": [
        {
          "data": {
            "text/plain": [
              "count    1.259730e+05\n",
              "mean     2.549477e-17\n",
              "std      1.000004e+00\n",
              "min     -1.102492e-01\n",
              "25%     -1.102492e-01\n",
              "50%     -1.102492e-01\n",
              "75%     -1.102492e-01\n",
              "max      1.636428e+01\n",
              "dtype: float64"
            ]
          },
          "execution_count": 64,
          "metadata": {},
          "output_type": "execute_result"
        }
      ],
      "source": [
        "from sklearn.preprocessing import StandardScaler\n",
        "\n",
        "durations = train_x['duration'].values.reshape(-1, 1)\n",
        "standard_scaler = StandardScaler().fit(durations)\n",
        "scaled_durations = standard_scaler.transform(durations)\n",
        "pd.Series(scaled_durations.flatten()).describe()"
      ]
    },
    {
      "cell_type": "code",
      "execution_count": 65,
      "metadata": {},
      "outputs": [
        {
          "data": {
            "text/plain": [
              "{'benign', 'dos', 'probe', 'r2l', 'u2r'}"
            ]
          },
          "execution_count": 65,
          "metadata": {},
          "output_type": "execute_result"
        }
      ],
      "source": [
        "set(train_Y)"
      ]
    },
    {
      "cell_type": "code",
      "execution_count": 66,
      "metadata": {
        "colab": {},
        "colab_type": "code",
        "id": "CFT8Zqwf2sVa"
      },
      "outputs": [
        {
          "name": "stderr",
          "output_type": "stream",
          "text": [
            "<>:1: SyntaxWarning: \"is\" with a literal. Did you mean \"==\"?\n",
            "<>:2: SyntaxWarning: \"is\" with a literal. Did you mean \"==\"?\n",
            "<>:1: SyntaxWarning: \"is\" with a literal. Did you mean \"==\"?\n",
            "<>:2: SyntaxWarning: \"is\" with a literal. Did you mean \"==\"?\n",
            "/tmp/ipykernel_7457/2342540571.py:1: SyntaxWarning: \"is\" with a literal. Did you mean \"==\"?\n",
            "  train_Y_bin = train_Y.apply(lambda x: 0 if x is 'benign' else 1)\n",
            "/tmp/ipykernel_7457/2342540571.py:2: SyntaxWarning: \"is\" with a literal. Did you mean \"==\"?\n",
            "  test_Y_bin = test_Y.apply(lambda x: 0 if x is 'benign' else 1)\n"
          ]
        }
      ],
      "source": [
        "train_Y_bin = train_Y.apply(lambda x: 0 if x is 'benign' else 1)\n",
        "test_Y_bin = test_Y.apply(lambda x: 0 if x is 'benign' else 1)"
      ]
    },
    {
      "cell_type": "code",
      "execution_count": 67,
      "metadata": {
        "colab": {
          "base_uri": "https://localhost:8080/",
          "height": 144
        },
        "colab_type": "code",
        "id": "vFHQ55Ke21MO",
        "outputId": "d81a49b8-dc05-4c60-a64a-7f1bcaaf91d9"
      },
      "outputs": [
        {
          "name": "stdout",
          "output_type": "stream",
          "text": [
            "[[9322  149  229   10    1]\n",
            " [1840 5538   79    3    0]\n",
            " [1025  163 1233    0    0]\n",
            " [1673   46  799  363    4]\n",
            " [  49    2   11    4    1]]\n",
            "0.27000532292405965\n",
            "0.7299946770759403\n"
          ]
        }
      ],
      "source": [
        "#had tried improving imbalancing, no significant change in result\n",
        "from sklearn.tree import DecisionTreeClassifier\n",
        "from sklearn.metrics import confusion_matrix, zero_one_loss, accuracy_score\n",
        "\n",
        "classifier = DecisionTreeClassifier(random_state=17)\n",
        "classifier.fit(train_x, train_Y)\n",
        "\n",
        "pred_y = classifier.predict(test_x)\n",
        "#print(pred_y)\n",
        "\n",
        "results = confusion_matrix(test_Y, pred_y)\n",
        "error = zero_one_loss(test_Y, pred_y)\n",
        "\n",
        "print(results)\n",
        "print(error)\n",
        "print(accuracy_score(pred_y,test_Y))"
      ]
    },
    {
      "cell_type": "code",
      "execution_count": 68,
      "metadata": {},
      "outputs": [],
      "source": [
        "from sklearn.metrics import confusion_matrix, zero_one_loss, accuracy_score"
      ]
    },
    {
      "cell_type": "code",
      "execution_count": 69,
      "metadata": {
        "colab": {
          "base_uri": "https://localhost:8080/",
          "height": 35
        },
        "colab_type": "code",
        "id": "3wBI57b_215v",
        "outputId": "c00f8322-8a11-4d6a-8015-8d34fc68e155"
      },
      "outputs": [
        {
          "data": {
            "text/plain": [
              "True"
            ]
          },
          "execution_count": 69,
          "metadata": {},
          "output_type": "execute_result"
        }
      ],
      "source": [
        "from sklearn.tree import export_graphviz\n",
        "import pydotplus\n",
        "from PIL import Image\n",
        "import os\n",
        "\n",
        "dot_data = export_graphviz(classifier, feature_names=list(train_x.columns),class_names=['benign', 'probe','dos','u2r','r2l'],rounded=True,filled=True)\n",
        "graph = pydotplus.graph_from_dot_data(dot_data)\n",
        "\n",
        "graph.write_png(\"viz_tree.png\")"
      ]
    },
    {
      "cell_type": "code",
      "execution_count": 70,
      "metadata": {
        "colab": {
          "base_uri": "https://localhost:8080/",
          "height": 126
        },
        "colab_type": "code",
        "id": "_NlLrAo3HKl5",
        "outputId": "8b261ac5-3567-43f0-f525-b297e0d69d6b"
      },
      "outputs": [
        {
          "name": "stderr",
          "output_type": "stream",
          "text": [
            "/home/limmireu/.local/lib/python3.10/site-packages/sklearn/svm/_classes.py:32: FutureWarning: The default value of `dual` will change from `True` to `'auto'` in 1.5. Set the value of `dual` explicitly to suppress the warning.\n",
            "  warnings.warn(\n"
          ]
        },
        {
          "name": "stdout",
          "output_type": "stream",
          "text": [
            "[[8909  443  332   22    5]\n",
            " [1375 3503 2578    4    0]\n",
            " [ 492  298 1630    1    0]\n",
            " [2444    4  410   26    1]\n",
            " [  33    3   14    2   15]]\n",
            "0.37531050390347764\n"
          ]
        },
        {
          "name": "stderr",
          "output_type": "stream",
          "text": [
            "/home/limmireu/.local/lib/python3.10/site-packages/sklearn/svm/_base.py:1242: ConvergenceWarning: Liblinear failed to converge, increase the number of iterations.\n",
            "  warnings.warn(\n"
          ]
        }
      ],
      "source": [
        "#variants can be added here, the kernel trick one should work better\n",
        "from sklearn.svm import LinearSVC\n",
        "\n",
        "classifier = LinearSVC()\n",
        "classifier.fit(train_x, train_Y)\n",
        "\n",
        "pred_y = classifier.predict(test_x)\n",
        "\n",
        "results = confusion_matrix(test_Y, pred_y)\n",
        "error = zero_one_loss(test_Y, pred_y)\n",
        "\n",
        "print(results)\n",
        "print(error)"
      ]
    },
    {
      "cell_type": "code",
      "execution_count": 71,
      "metadata": {
        "colab": {
          "base_uri": "https://localhost:8080/",
          "height": 35
        },
        "colab_type": "code",
        "id": "S62hRuAhG3f9",
        "outputId": "22f36cdd-f034-4b54-9018-f8425e72db81"
      },
      "outputs": [
        {
          "name": "stdout",
          "output_type": "stream",
          "text": [
            "0.6246894960965224\n"
          ]
        }
      ],
      "source": [
        "print(accuracy_score(pred_y,test_Y))"
      ]
    },
    {
      "cell_type": "code",
      "execution_count": 72,
      "metadata": {
        "colab": {
          "base_uri": "https://localhost:8080/",
          "height": 144
        },
        "colab_type": "code",
        "id": "Cj4d3SayHzJ2",
        "outputId": "6b22da55-02c4-4b90-af90-1ac9e93166b0"
      },
      "outputs": [
        {
          "name": "stdout",
          "output_type": "stream",
          "text": [
            "[LibSVM]WARN: libsvm Solver reached max_iter\n",
            "optimization finished, #iter = 1000\n",
            "obj = -1999.827443, rho = -0.107131\n",
            "nSV = 2000, nBSV = 2000\n",
            "WARN: libsvm Solver reached max_iter\n",
            "optimization finished, #iter = 1000\n",
            "obj = -1999.583704, rho = -0.019812\n",
            "nSV = 2000, nBSV = 2000\n",
            "WARN: libsvm Solver reached max_iter\n",
            "optimization finished, #iter = 1000\n",
            "obj = -1977.061532, rho = -1.228220\n",
            "nSV = 1992, nBSV = 1987\n",
            "*\n",
            "optimization finished, #iter = 120\n",
            "obj = -103.999405, rho = -1.015913\n",
            "nSV = 127, nBSV = 99\n",
            "WARN: libsvm Solver reached max_iter\n",
            "optimization finished, #iter = 1000\n",
            "obj = -1996.388057, rho = 0.212295\n",
            "nSV = 2000, nBSV = 2000\n",
            "WARN: libsvm Solver reached max_iter\n",
            "optimization finished, #iter = 1000\n",
            "obj = -1795.971498, rho = 0.549209\n",
            "nSV = 1812, nBSV = 1806\n",
            "*\n",
            "optimization finished, #iter = 75\n",
            "obj = -101.824968, rho = -0.835016\n",
            "nSV = 107, nBSV = 102\n",
            "WARN: libsvm Solver reached max_iter\n",
            "optimization finished, #iter = 1000\n",
            "obj = -1942.891206, rho = -0.999396\n",
            "nSV = 1982, nBSV = 1976\n",
            "*\n",
            "optimization finished, #iter = 159\n",
            "obj = -103.958252, rho = -1.102272\n",
            "nSV = 110, nBSV = 101\n",
            "*\n",
            "optimization finished, #iter = 90\n",
            "obj = -103.821391, rho = -1.173998\n",
            "nSV = 106, nBSV = 103\n",
            "Total nSV = 9052\n"
          ]
        },
        {
          "name": "stderr",
          "output_type": "stream",
          "text": [
            "/home/limmireu/.local/lib/python3.10/site-packages/sklearn/svm/_base.py:297: ConvergenceWarning: Solver terminated early (max_iter=1000).  Consider pre-processing your data with StandardScaler or MinMaxScaler.\n",
            "  warnings.warn(\n"
          ]
        },
        {
          "name": "stdout",
          "output_type": "stream",
          "text": [
            "[[4744 4943   24    0    0]\n",
            " [1329 2286 3845    0    0]\n",
            " [ 992 1218  211    0    0]\n",
            " [1074 1811    0    0    0]\n",
            " [  42   25    0    0    0]]\n",
            "0.678805890702626\n",
            "0.321194109297374\n"
          ]
        }
      ],
      "source": [
        "from sklearn.svm import SVC\n",
        "model = SVC(verbose=True,max_iter=1000)\n",
        "\n",
        "model.fit(train_x, train_Y)\n",
        "pred_y = model.predict(test_x)\n",
        "\n",
        "results = confusion_matrix(test_Y, pred_y)\n",
        "error = zero_one_loss(test_Y, pred_y)\n",
        "\n",
        "print(results)\n",
        "print(error)\n",
        "print(accuracy_score(pred_y,test_Y))"
      ]
    },
    {
      "cell_type": "code",
      "execution_count": 73,
      "metadata": {
        "colab": {},
        "colab_type": "code",
        "id": "Chxl7fYW2l-m"
      },
      "outputs": [
        {
          "data": {
            "text/plain": [
              "pandas.core.frame.DataFrame"
            ]
          },
          "execution_count": 73,
          "metadata": {},
          "output_type": "execute_result"
        }
      ],
      "source": [
        "train_x = train_x.astype(float)\n",
        "test_x = test_x.astype(float)\n",
        "type(test_x)"
      ]
    },
    {
      "cell_type": "code",
      "execution_count": 74,
      "metadata": {},
      "outputs": [
        {
          "data": {
            "text/plain": [
              "(22544, 118)"
            ]
          },
          "execution_count": 74,
          "metadata": {},
          "output_type": "execute_result"
        }
      ],
      "source": [
        "test_x.shape"
      ]
    },
    {
      "cell_type": "code",
      "execution_count": 75,
      "metadata": {
        "colab": {},
        "colab_type": "code",
        "id": "vfpQKb4xAa2K"
      },
      "outputs": [
        {
          "data": {
            "text/plain": [
              "(125973, 118)"
            ]
          },
          "execution_count": 75,
          "metadata": {},
          "output_type": "execute_result"
        }
      ],
      "source": [
        "shape = np.array(train_x).shape\n",
        "shape"
      ]
    },
    {
      "cell_type": "code",
      "execution_count": 76,
      "metadata": {},
      "outputs": [],
      "source": [
        "train_x = np.array(train_x)\n",
        "train_Y = np.array(train_Y)\n",
        "test_x = np.array(test_x)\n",
        "test_Y = np.array(test_Y)"
      ]
    },
    {
      "cell_type": "code",
      "execution_count": 77,
      "metadata": {},
      "outputs": [
        {
          "data": {
            "text/plain": [
              "(22544, 118, 1)"
            ]
          },
          "execution_count": 77,
          "metadata": {},
          "output_type": "execute_result"
        }
      ],
      "source": [
        "train_x = train_x.reshape(125973, -1, 1)\n",
        "test_x = test_x.reshape(22544, 118, 1)\n",
        "test_x.shape"
      ]
    },
    {
      "cell_type": "code",
      "execution_count": 78,
      "metadata": {},
      "outputs": [
        {
          "name": "stderr",
          "output_type": "stream",
          "text": [
            "2023-08-08 14:08:21.076022: I tensorflow/compiler/xla/stream_executor/cuda/cuda_gpu_executor.cc:995] successful NUMA node read from SysFS had negative value (-1), but there must be at least one NUMA node, so returning NUMA node zero. See more at https://github.com/torvalds/linux/blob/v6.0/Documentation/ABI/testing/sysfs-bus-pci#L344-L355\n",
            "2023-08-08 14:08:21.131552: W tensorflow/core/common_runtime/gpu/gpu_device.cc:1960] Cannot dlopen some GPU libraries. Please make sure the missing libraries mentioned above are installed properly if you would like to use GPU. Follow the guide at https://www.tensorflow.org/install/gpu for how to download and setup the required libraries for your platform.\n",
            "Skipping registering GPU devices...\n"
          ]
        }
      ],
      "source": [
        "model = Sequential()\n",
        "model.add(Conv1D(filters=64, kernel_size=5, activation='tanh', input_shape=(118, 1)))\n",
        "model.add(BatchNormalization())\n",
        "model.add(Conv1D(filters=128, kernel_size=5, activation='relu', input_shape=(118, 1)))\n",
        "model.add(BatchNormalization())\n",
        "model.add(Flatten())\n",
        "model.add(Dense(10, activation='relu'))\n",
        "model.add(Dense(1, activation='sigmoid'))"
      ]
    },
    {
      "cell_type": "code",
      "execution_count": 79,
      "metadata": {},
      "outputs": [],
      "source": [
        "model.compile(loss='binary_crossentropy', optimizer='RMSprop', metrics=['accuracy'])"
      ]
    },
    {
      "cell_type": "code",
      "execution_count": 80,
      "metadata": {},
      "outputs": [
        {
          "name": "stdout",
          "output_type": "stream",
          "text": [
            "6299/6299 [==============================] - 32s 5ms/step - loss: 0.1782 - accuracy: 0.9496 - val_loss: 0.1090 - val_accuracy: 0.9761\n"
          ]
        },
        {
          "data": {
            "text/plain": [
              "<keras.src.callbacks.History at 0x7fcab2e29a80>"
            ]
          },
          "execution_count": 80,
          "metadata": {},
          "output_type": "execute_result"
        }
      ],
      "source": [
        "model.fit(train_x, train_Y_bin, epochs=1, batch_size=16, validation_split=0.2)"
      ]
    },
    {
      "cell_type": "code",
      "execution_count": 81,
      "metadata": {},
      "outputs": [
        {
          "name": "stdout",
          "output_type": "stream",
          "text": [
            "705/705 [==============================] - 2s 2ms/step\n"
          ]
        }
      ],
      "source": [
        "pred_y = model.predict(test_x)\n",
        "\n",
        "acc = {}\n",
        "for i in np.arange(0, 0.5, 0.005):\n",
        "    pred = (pred_y > i).astype(int)\n",
        "    acc.update({i: accuracy_score(test_Y_bin, pred)})"
      ]
    },
    {
      "cell_type": "code",
      "execution_count": 82,
      "metadata": {},
      "outputs": [
        {
          "data": {
            "text/plain": [
              "{0.0: 0.5692423704755145,\n",
              " 0.005: 0.5692423704755145,\n",
              " 0.01: 0.5692423704755145,\n",
              " 0.015: 0.5692423704755145,\n",
              " 0.02: 0.5692423704755145,\n",
              " 0.025: 0.5692423704755145,\n",
              " 0.03: 0.5692423704755145,\n",
              " 0.035: 0.5691980127750177,\n",
              " 0.04: 0.7639283179559971,\n",
              " 0.045: 0.7635290986515259,\n",
              " 0.05: 0.7630855216465579,\n",
              " 0.055: 0.7625975869410929,\n",
              " 0.06: 0.7623757984386089,\n",
              " 0.065: 0.7622427253371186,\n",
              " 0.07: 0.7620209368346345,\n",
              " 0.075: 0.7618435060326473,\n",
              " 0.08: 0.7615773598296665,\n",
              " 0.085: 0.7610894251242015,\n",
              " 0.09: 0.7606014904187367,\n",
              " 0.095: 0.7603797019162527,\n",
              " 0.1: 0.7602466288147622,\n",
              " 0.105: 0.7599804826117814,\n",
              " 0.11: 0.7598917672107878,\n",
              " 0.115: 0.7596699787083038,\n",
              " 0.12: 0.7595369056068133,\n",
              " 0.125: 0.7593151171043293,\n",
              " 0.13: 0.7592707594038325,\n",
              " 0.135: 0.7589602555003548,\n",
              " 0.14: 0.758694109297374,\n",
              " 0.145: 0.7586497515968772,\n",
              " 0.15: 0.7586497515968772,\n",
              " 0.155: 0.7582948899929027,\n",
              " 0.16: 0.7581618168914124,\n",
              " 0.165: 0.7581174591909156,\n",
              " 0.17: 0.7581174591909156,\n",
              " 0.17500000000000002: 0.7578069552874379,\n",
              " 0.18: 0.7577182398864443,\n",
              " 0.185: 0.7575408090844571,\n",
              " 0.19: 0.7571859474804826,\n",
              " 0.195: 0.757097232079489,\n",
              " 0.2: 0.7569641589779986,\n",
              " 0.20500000000000002: 0.756875443577005,\n",
              " 0.21: 0.7567423704755145,\n",
              " 0.215: 0.7563431511710433,\n",
              " 0.22: 0.7563431511710433,\n",
              " 0.225: 0.7562544357700497,\n",
              " 0.23: 0.755943931866572,\n",
              " 0.23500000000000001: 0.7558552164655784,\n",
              " 0.24: 0.7558552164655784,\n",
              " 0.245: 0.7554559971611071,\n",
              " 0.25: 0.7553672817601136,\n",
              " 0.255: 0.7550124201561391,\n",
              " 0.26: 0.7547906316536551,\n",
              " 0.265: 0.7547019162526615,\n",
              " 0.27: 0.7546575585521647,\n",
              " 0.275: 0.7546132008516678,\n",
              " 0.28: 0.7545244854506742,\n",
              " 0.28500000000000003: 0.7544357700496807,\n",
              " 0.29: 0.754347054648687,\n",
              " 0.295: 0.7542583392476934,\n",
              " 0.3: 0.7540365507452094,\n",
              " 0.305: 0.7539034776437189,\n",
              " 0.31: 0.7538147622427254,\n",
              " 0.315: 0.7536816891412349,\n",
              " 0.32: 0.7535486160397445,\n",
              " 0.325: 0.7533268275372604,\n",
              " 0.33: 0.7533268275372604,\n",
              " 0.335: 0.7532824698367636,\n",
              " 0.34: 0.7531493967352733,\n",
              " 0.34500000000000003: 0.7531050390347764,\n",
              " 0.35000000000000003: 0.7530163236337828,\n",
              " 0.355: 0.7528388928317956,\n",
              " 0.36: 0.7527945351312988,\n",
              " 0.365: 0.7526614620298083,\n",
              " 0.37: 0.7525727466288148,\n",
              " 0.375: 0.7524396735273243,\n",
              " 0.38: 0.752306600425834,\n",
              " 0.385: 0.7522178850248403,\n",
              " 0.39: 0.7521735273243435,\n",
              " 0.395: 0.752040454222853,\n",
              " 0.4: 0.751818665720369,\n",
              " 0.405: 0.7516412349183819,\n",
              " 0.41000000000000003: 0.7515081618168914,\n",
              " 0.41500000000000004: 0.751375088715401,\n",
              " 0.42: 0.7511976579134138,\n",
              " 0.425: 0.7510645848119234,\n",
              " 0.43: 0.7509758694109298,\n",
              " 0.435: 0.7509758694109298,\n",
              " 0.44: 0.7507984386089425,\n",
              " 0.445: 0.7507097232079489,\n",
              " 0.45: 0.7506653655074521,\n",
              " 0.455: 0.7506210078069553,\n",
              " 0.46: 0.7503992193044713,\n",
              " 0.465: 0.7503105039034776,\n",
              " 0.47000000000000003: 0.7503105039034776,\n",
              " 0.47500000000000003: 0.750221788502484,\n",
              " 0.48: 0.7499556422995032,\n",
              " 0.485: 0.7498669268985095,\n",
              " 0.49: 0.7496894960965224,\n",
              " 0.495: 0.7494233498935415}"
            ]
          },
          "execution_count": 82,
          "metadata": {},
          "output_type": "execute_result"
        }
      ],
      "source": [
        "np.max(acc)"
      ]
    },
    {
      "cell_type": "code",
      "execution_count": 83,
      "metadata": {},
      "outputs": [
        {
          "data": {
            "text/plain": [
              "0.4055074"
            ]
          },
          "execution_count": 83,
          "metadata": {},
          "output_type": "execute_result"
        }
      ],
      "source": [
        "np.mean(pred_y)"
      ]
    },
    {
      "cell_type": "code",
      "execution_count": 84,
      "metadata": {},
      "outputs": [
        {
          "data": {
            "text/plain": [
              "0     0\n",
              "1     0\n",
              "2     1\n",
              "3     0\n",
              "4     0\n",
              "     ..\n",
              "95    0\n",
              "96    0\n",
              "97    0\n",
              "98    0\n",
              "99    1\n",
              "Name: attack_category, Length: 100, dtype: int64"
            ]
          },
          "execution_count": 84,
          "metadata": {},
          "output_type": "execute_result"
        }
      ],
      "source": [
        "train_Y_bin[0:100]"
      ]
    },
    {
      "cell_type": "code",
      "execution_count": 85,
      "metadata": {},
      "outputs": [
        {
          "data": {
            "text/plain": [
              "12833"
            ]
          },
          "execution_count": 85,
          "metadata": {},
          "output_type": "execute_result"
        }
      ],
      "source": [
        "a = 0\n",
        "for i in range(len(test_x)):\n",
        "    if test_Y_bin[i] == 1:\n",
        "        a += 1\n",
        "a"
      ]
    },
    {
      "cell_type": "code",
      "execution_count": 86,
      "metadata": {},
      "outputs": [
        {
          "data": {
            "text/plain": [
              "pandas.core.series.Series"
            ]
          },
          "execution_count": 86,
          "metadata": {},
          "output_type": "execute_result"
        }
      ],
      "source": [
        "type(train_Y_bin)"
      ]
    },
    {
      "cell_type": "code",
      "execution_count": 87,
      "metadata": {},
      "outputs": [],
      "source": [
        "train_x_view = train_x.reshape(-1, 118)"
      ]
    },
    {
      "cell_type": "code",
      "execution_count": 88,
      "metadata": {},
      "outputs": [
        {
          "data": {
            "text/plain": [
              "42908.0"
            ]
          },
          "execution_count": 88,
          "metadata": {},
          "output_type": "execute_result"
        }
      ],
      "source": [
        "np.max(train_x)"
      ]
    },
    {
      "cell_type": "code",
      "execution_count": 89,
      "metadata": {},
      "outputs": [
        {
          "data": {
            "text/plain": [
              "array([[0.00000000e+00, 3.55806412e-07, 0.00000000e+00, ...,\n",
              "        0.00000000e+00, 0.00000000e+00, 0.00000000e+00],\n",
              "       [0.00000000e+00, 1.05799870e-07, 0.00000000e+00, ...,\n",
              "        0.00000000e+00, 0.00000000e+00, 0.00000000e+00],\n",
              "       [0.00000000e+00, 0.00000000e+00, 0.00000000e+00, ...,\n",
              "        0.00000000e+00, 0.00000000e+00, 0.00000000e+00],\n",
              "       ...,\n",
              "       [0.00000000e+00, 1.61670897e-06, 2.93143779e-07, ...,\n",
              "        0.00000000e+00, 0.00000000e+00, 0.00000000e+00],\n",
              "       [0.00000000e+00, 0.00000000e+00, 0.00000000e+00, ...,\n",
              "        0.00000000e+00, 0.00000000e+00, 0.00000000e+00],\n",
              "       [0.00000000e+00, 1.09423153e-07, 0.00000000e+00, ...,\n",
              "        0.00000000e+00, 0.00000000e+00, 0.00000000e+00]])"
            ]
          },
          "execution_count": 89,
          "metadata": {},
          "output_type": "execute_result"
        }
      ],
      "source": [
        "train_x_view"
      ]
    },
    {
      "cell_type": "code",
      "execution_count": null,
      "metadata": {},
      "outputs": [],
      "source": []
    }
  ],
  "metadata": {
    "colab": {
      "include_colab_link": true,
      "name": "Predicting Network Attacks.ipynb",
      "provenance": [],
      "toc_visible": true
    },
    "kernelspec": {
      "display_name": "Python 3 (ipykernel)",
      "language": "python",
      "name": "python3"
    },
    "language_info": {
      "codemirror_mode": {
        "name": "ipython",
        "version": 3
      },
      "file_extension": ".py",
      "mimetype": "text/x-python",
      "name": "python",
      "nbconvert_exporter": "python",
      "pygments_lexer": "ipython3",
      "version": "3.10.12"
    }
  },
  "nbformat": 4,
  "nbformat_minor": 0
}
