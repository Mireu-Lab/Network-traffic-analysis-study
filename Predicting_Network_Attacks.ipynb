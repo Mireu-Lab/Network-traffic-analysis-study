{
  "cells": [
    {
      "cell_type": "code",
      "execution_count": null,
      "metadata": {
        "colab": {},
        "colab_type": "code",
        "id": "yb0-OE5hlusS"
      },
      "outputs": [],
      "source": [
        "import os\n",
        "from collections import defaultdict\n",
        "import pandas as pd\n",
        "import numpy as np\n",
        "import matplotlib.pyplot as plt\n",
        "%matplotlib inline\n",
        "import keras\n",
        "import tensorflow as tf\n",
        "from keras.layers import Conv1D, MaxPooling1D, Flatten, Dense, BatchNormalization\n",
        "from sklearn.preprocessing import MinMaxScaler\n",
        "from keras.models import Sequential"
      ]
    },
    {
      "cell_type": "code",
      "execution_count": null,
      "metadata": {
        "colab": {},
        "colab_type": "code",
        "id": "ueVXbc61l56U"
      },
      "outputs": [],
      "source": [
        "#os.listdir()\n",
        "dataset_root = os.path.join(os.getcwd(),'Datasets/KDD')"
      ]
    },
    {
      "cell_type": "code",
      "execution_count": null,
      "metadata": {
        "colab": {},
        "colab_type": "code",
        "id": "oPauQXOAmGIB"
      },
      "outputs": [],
      "source": [
        "train_file = os.path.join(dataset_root, 'KDDTrain+.csv')\n",
        "test_file = os.path.join(dataset_root, 'KDDTest+.csv')"
      ]
    },
    {
      "cell_type": "code",
      "execution_count": null,
      "metadata": {
        "colab": {},
        "colab_type": "code",
        "id": "FHDfemmsmcNg"
      },
      "outputs": [],
      "source": [
        "header_names = ['duration', 'protocol_type', 'service', 'flag', 'src_bytes', 'dst_bytes', 'land', 'wrong_fragment', 'urgent', 'hot', 'num_failed_logins', 'logged_in', 'num_compromised', 'root_shell', 'su_attempted', 'num_root', 'num_file_creations', 'num_shells', 'num_access_files', 'num_outbound_cmds', 'is_host_login', 'is_guest_login', 'count', 'srv_count', 'serror_rate', 'srv_serror_rate', 'rerror_rate', 'srv_rerror_rate', 'same_srv_rate', 'diff_srv_rate', 'srv_diff_host_rate', 'dst_host_count', 'dst_host_srv_count', 'dst_host_same_srv_rate', 'dst_host_diff_srv_rate', 'dst_host_same_src_port_rate', 'dst_host_srv_diff_host_rate', 'dst_host_serror_rate', 'dst_host_srv_serror_rate', 'dst_host_rerror_rate', 'dst_host_srv_rerror_rate', 'attack_type', 'success_pred']"
      ]
    },
    {
      "cell_type": "code",
      "execution_count": null,
      "metadata": {
        "colab": {},
        "colab_type": "code",
        "id": "vU2FBTK2o_re"
      },
      "outputs": [],
      "source": [
        "col_names = np.array(header_names)\n",
        "\n",
        "nominal_idx = [1, 2, 3]\n",
        "binary_idx = [6, 11, 13, 14, 20, 21]\n",
        "numeric_idx = list(set(range(41)).difference(nominal_idx).difference(binary_idx))\n",
        "\n",
        "nominal_cols = col_names[nominal_idx].tolist()\n",
        "binary_cols = col_names[binary_idx].tolist()\n",
        "numeric_cols = col_names[numeric_idx].tolist()"
      ]
    },
    {
      "cell_type": "code",
      "execution_count": null,
      "metadata": {
        "colab": {},
        "colab_type": "code",
        "id": "kh9cxuCYqDvc"
      },
      "outputs": [],
      "source": [
        "category = defaultdict(list)\n",
        "category['benign'].append('normal')\n",
        "\n",
        "name = os.path.join(dataset_root,'name.txt')\n",
        "with open(name, 'r') as f:\n",
        "    for line in f.readlines():\n",
        "        #print(line)\n",
        "        attack, cat = line.strip().split(' ')\n",
        "        category[cat].append(attack)\n",
        "\n",
        "attack_mapping = dict((v,k) for k in category for v in category[k])"
      ]
    },
    {
      "cell_type": "code",
      "execution_count": null,
      "metadata": {
        "colab": {
          "base_uri": "https://localhost:8080/",
          "height": 744
        },
        "colab_type": "code",
        "id": "i62KQmLkqJHI",
        "outputId": "f9ad0b2e-6cd8-43b7-f73d-3be184da89c5"
      },
      "outputs": [],
      "source": [
        "attack_mapping"
      ]
    },
    {
      "cell_type": "code",
      "execution_count": null,
      "metadata": {
        "colab": {},
        "colab_type": "code",
        "id": "-6i9cGPsrPzP"
      },
      "outputs": [],
      "source": [
        "DataSetKDDTrain = pd.read_csv(train_file, names=header_names)\n",
        "DataSetKDDTrain['attack_category'] = DataSetKDDTrain['attack_type'].map(lambda x: attack_mapping[x])\n",
        "DataSetKDDTrain.drop(['success_pred'], axis=1, inplace=True)\n",
        "    \n",
        "DataSetKDDTest = pd.read_csv(test_file, names=header_names)\n",
        "DataSetKDDTest['attack_category'] = DataSetKDDTest['attack_type'].map(lambda x: attack_mapping[x])\n",
        "DataSetKDDTest.drop(['success_pred'], axis=1, inplace=True)"
      ]
    },
    {
      "cell_type": "code",
      "execution_count": null,
      "metadata": {},
      "outputs": [],
      "source": [
        "src_train = DataSetKDDTrain['src_bytes']\n",
        "src_test = DataSetKDDTest['src_bytes']\n",
        "dst_train = DataSetKDDTrain['dst_bytes']\n",
        "dst_test = DataSetKDDTest['dst_bytes']"
      ]
    },
    {
      "cell_type": "code",
      "execution_count": null,
      "metadata": {},
      "outputs": [],
      "source": [
        "np.max(src_train), np.max(src_test), np.max(dst_train), np.max(dst_test)"
      ]
    },
    {
      "cell_type": "code",
      "execution_count": null,
      "metadata": {},
      "outputs": [],
      "source": [
        "src_train = np.array(src_train).reshape(-1, 1)\n",
        "src_test = np.array(src_test).reshape(-1, 1)\n",
        "dst_train = np.array(dst_train).reshape(-1, 1)\n",
        "dst_test = np.array(dst_test).reshape(-1, 1)"
      ]
    },
    {
      "cell_type": "code",
      "execution_count": null,
      "metadata": {},
      "outputs": [],
      "source": [
        "scaler = MinMaxScaler(feature_range=(0, 1))\n",
        "src_train = scaler.fit_transform(src_train)\n",
        "dst_train = scaler.fit_transform(dst_train)\n",
        "src_test = scaler.fit_transform(src_test)\n",
        "dst_test = scaler.fit_transform(dst_test)"
      ]
    },
    {
      "cell_type": "code",
      "execution_count": null,
      "metadata": {},
      "outputs": [],
      "source": [
        "DataSetKDDTrain['src_bytes'] = src_train\n",
        "DataSetKDDTest['src_bytes'] = src_test\n",
        "DataSetKDDTrain['dst_bytes'] = dst_train\n",
        "DataSetKDDTest['dst_bytes'] = dst_test"
      ]
    },
    {
      "cell_type": "code",
      "execution_count": null,
      "metadata": {},
      "outputs": [],
      "source": [
        "for j in zip(range(len(set(DataSetKDDTrain[\"protocol_type\"]))), list(set(DataSetKDDTrain[\"protocol_type\"]))):\n",
        "    DataSetKDDTrain.loc[(DataSetKDDTrain['protocol_type'] == j[1]), \"protocol_type\"] = j[0]\n",
        "\n",
        "for j in zip(range(len(set(DataSetKDDTrain[\"service\"]))), list(set(DataSetKDDTrain[\"service\"]))):\n",
        "    DataSetKDDTrain.loc[(DataSetKDDTrain['service'] == j[1]), \"service\"] = j[0]\n",
        "    \n",
        "for j in zip(range(len(set(DataSetKDDTrain[\"flag\"]))), list(set(DataSetKDDTrain[\"flag\"]))):\n",
        "    DataSetKDDTrain.loc[(DataSetKDDTrain['flag'] == j[1]), \"flag\"] = j[0]"
      ]
    },
    {
      "cell_type": "code",
      "execution_count": null,
      "metadata": {},
      "outputs": [],
      "source": [
        "for j in zip(range(len(set(DataSetKDDTest[\"protocol_type\"]))), list(set(DataSetKDDTest[\"protocol_type\"]))):\n",
        "    DataSetKDDTest.loc[(DataSetKDDTest['protocol_type'] == j[1]), \"protocol_type\"] = j[0]\n",
        "\n",
        "for j in zip(range(len(set(DataSetKDDTest[\"service\"]))), list(set(DataSetKDDTest[\"service\"]))):\n",
        "    DataSetKDDTest.loc[(DataSetKDDTest['service'] == j[1]), \"service\"] = j[0]\n",
        "    \n",
        "for j in zip(range(len(set(DataSetKDDTest[\"flag\"]))), list(set(DataSetKDDTest[\"flag\"]))):\n",
        "    DataSetKDDTest.loc[(DataSetKDDTest['flag'] == j[1]), \"flag\"] = j[0]"
      ]
    },
    {
      "cell_type": "code",
      "execution_count": null,
      "metadata": {
        "colab": {},
        "colab_type": "code",
        "id": "745IJDYfrd_A"
      },
      "outputs": [],
      "source": [
        "train_attack_types = DataSetKDDTrain['attack_type'].value_counts()\n",
        "train_attack_cats = DataSetKDDTrain['attack_category'].value_counts()"
      ]
    },
    {
      "cell_type": "code",
      "execution_count": null,
      "metadata": {
        "colab": {},
        "colab_type": "code",
        "id": "4Ky3JjjmtLWb"
      },
      "outputs": [],
      "source": [
        "test_attack_types = DataSetKDDTest['attack_type'].value_counts()\n",
        "test_attack_cats = DataSetKDDTest['attack_category'].value_counts()"
      ]
    },
    {
      "cell_type": "code",
      "execution_count": null,
      "metadata": {
        "colab": {
          "base_uri": "https://localhost:8080/",
          "height": 639
        },
        "colab_type": "code",
        "id": "jDU08ZNy0SIS",
        "outputId": "370c7e63-fbf5-4b48-f14a-34ffa7f34af1"
      },
      "outputs": [],
      "source": [
        "train_attack_types.plot(kind='barh', figsize=(20,10), fontsize=20)"
      ]
    },
    {
      "cell_type": "code",
      "execution_count": null,
      "metadata": {
        "colab": {
          "base_uri": "https://localhost:8080/",
          "height": 649
        },
        "colab_type": "code",
        "id": "peJ99axm0TsI",
        "outputId": "60b77f4b-44d4-4072-ecaa-3a76f9f9a9b3"
      },
      "outputs": [],
      "source": [
        "train_attack_cats.plot(kind='barh', figsize=(20,10), fontsize=30)"
      ]
    },
    {
      "cell_type": "code",
      "execution_count": null,
      "metadata": {
        "colab": {
          "base_uri": "https://localhost:8080/",
          "height": 649
        },
        "colab_type": "code",
        "id": "6-auNLpX0X5X",
        "outputId": "471fe78f-84d5-4e8b-a5df-164c3ceb1177"
      },
      "outputs": [],
      "source": [
        "test_attack_cats.plot(kind='barh', figsize=(20,10), fontsize=30)"
      ]
    },
    {
      "cell_type": "code",
      "execution_count": null,
      "metadata": {
        "colab": {
          "base_uri": "https://localhost:8080/",
          "height": 237
        },
        "colab_type": "code",
        "id": "9p5yxo6x0hr4",
        "outputId": "6babb1e7-e485-4c39-8152-16ab9394cd9b"
      },
      "outputs": [],
      "source": [
        "DataSetKDDTrain[binary_cols].describe().transpose()"
      ]
    },
    {
      "cell_type": "code",
      "execution_count": null,
      "metadata": {
        "colab": {
          "base_uri": "https://localhost:8080/",
          "height": 108
        },
        "colab_type": "code",
        "id": "Ol8E1TzZ0oDt",
        "outputId": "220cfe14-89af-4407-c2af-2ba703aefe55"
      },
      "outputs": [],
      "source": [
        "DataSetKDDTrain.groupby(['su_attempted']).size()"
      ]
    },
    {
      "cell_type": "code",
      "execution_count": null,
      "metadata": {
        "colab": {
          "base_uri": "https://localhost:8080/",
          "height": 90
        },
        "colab_type": "code",
        "id": "OvgOC_Z413oO",
        "outputId": "668e2878-b587-40b7-85d6-57eb47cae10c"
      },
      "outputs": [],
      "source": [
        "DataSetKDDTrain['su_attempted'].replace(2, 0, inplace=True)\n",
        "DataSetKDDTest['su_attempted'].replace(2, 0, inplace=True)\n",
        "DataSetKDDTrain.groupby(['su_attempted']).size()"
      ]
    },
    {
      "cell_type": "code",
      "execution_count": null,
      "metadata": {
        "colab": {
          "base_uri": "https://localhost:8080/",
          "height": 72
        },
        "colab_type": "code",
        "id": "XdxhBdhR18v9",
        "outputId": "6032e938-e697-4093-8f10-c604c24cc77a"
      },
      "outputs": [],
      "source": [
        "DataSetKDDTrain.groupby(['num_outbound_cmds']).size()"
      ]
    },
    {
      "cell_type": "code",
      "execution_count": null,
      "metadata": {
        "colab": {},
        "colab_type": "code",
        "id": "4CQ2iYih2HCB"
      },
      "outputs": [],
      "source": [
        "DataSetKDDTrain.drop('num_outbound_cmds', axis = 1, inplace=True)\n",
        "DataSetKDDTest.drop('num_outbound_cmds', axis = 1, inplace=True)\n",
        "numeric_cols.remove('num_outbound_cmds')"
      ]
    },
    {
      "cell_type": "code",
      "execution_count": null,
      "metadata": {
        "colab": {},
        "colab_type": "code",
        "id": "ilZbLRTV2JwQ"
      },
      "outputs": [],
      "source": [
        "train_Y = DataSetKDDTrain['attack_category']\n",
        "train_x_raw = DataSetKDDTrain.drop(['attack_category','attack_type'], axis=1)\n",
        "test_Y = DataSetKDDTest['attack_category']\n",
        "test_x_raw = DataSetKDDTest.drop(['attack_category','attack_type'], axis=1)"
      ]
    },
    {
      "cell_type": "code",
      "execution_count": null,
      "metadata": {
        "colab": {},
        "colab_type": "code",
        "id": "MnGYnchi2NY8"
      },
      "outputs": [],
      "source": [
        "combined_df_raw = pd.concat([train_x_raw, test_x_raw])\n",
        "combined_df = pd.get_dummies(combined_df_raw, columns=nominal_cols, drop_first=True)\n",
        "\n",
        "train_x = combined_df[:len(train_x_raw)]\n",
        "test_x = combined_df[len(train_x_raw):]\n",
        "\n",
        "# Store dummy variable feature names\n",
        "dummy_variables = list(set(train_x)-set(combined_df_raw))"
      ]
    },
    {
      "cell_type": "code",
      "execution_count": null,
      "metadata": {
        "colab": {
          "base_uri": "https://localhost:8080/",
          "height": 349
        },
        "colab_type": "code",
        "id": "GGHCvWRH2PAY",
        "outputId": "b2d080c6-c49d-4a5e-db7b-538803acb6d2"
      },
      "outputs": [],
      "source": [
        "train_x.describe().T"
      ]
    },
    {
      "cell_type": "code",
      "execution_count": null,
      "metadata": {
        "colab": {
          "base_uri": "https://localhost:8080/",
          "height": 181
        },
        "colab_type": "code",
        "id": "s3khTsJe2rRS",
        "outputId": "b15858d3-5c86-4dff-f498-a8589665e064"
      },
      "outputs": [],
      "source": [
        "from sklearn.preprocessing import StandardScaler\n",
        "\n",
        "durations = train_x['duration'].values.reshape(-1, 1)\n",
        "standard_scaler = StandardScaler().fit(durations)\n",
        "scaled_durations = standard_scaler.transform(durations)\n",
        "pd.Series(scaled_durations.flatten()).describe()"
      ]
    },
    {
      "cell_type": "code",
      "execution_count": null,
      "metadata": {},
      "outputs": [],
      "source": [
        "set(train_Y)"
      ]
    },
    {
      "cell_type": "code",
      "execution_count": null,
      "metadata": {
        "colab": {},
        "colab_type": "code",
        "id": "CFT8Zqwf2sVa"
      },
      "outputs": [],
      "source": [
        "train_Y_bin = train_Y.apply(lambda x: 0 if x is 'benign' else 1)\n",
        "test_Y_bin = test_Y.apply(lambda x: 0 if x is 'benign' else 1)"
      ]
    },
    {
      "cell_type": "code",
      "execution_count": null,
      "metadata": {
        "colab": {
          "base_uri": "https://localhost:8080/",
          "height": 144
        },
        "colab_type": "code",
        "id": "vFHQ55Ke21MO",
        "outputId": "d81a49b8-dc05-4c60-a64a-7f1bcaaf91d9"
      },
      "outputs": [],
      "source": [
        "#had tried improving imbalancing, no significant change in result\n",
        "from sklearn.tree import DecisionTreeClassifier\n",
        "from sklearn.metrics import confusion_matrix, zero_one_loss, accuracy_score\n",
        "\n",
        "classifier = DecisionTreeClassifier(random_state=17)\n",
        "classifier.fit(train_x, train_Y)\n",
        "\n",
        "pred_y = classifier.predict(test_x)\n",
        "#print(pred_y)\n",
        "\n",
        "results = confusion_matrix(test_Y, pred_y)\n",
        "error = zero_one_loss(test_Y, pred_y)\n",
        "\n",
        "print(results)\n",
        "print(error)\n",
        "print(accuracy_score(pred_y,test_Y))"
      ]
    },
    {
      "cell_type": "code",
      "execution_count": null,
      "metadata": {},
      "outputs": [],
      "source": [
        "from sklearn.metrics import confusion_matrix, zero_one_loss, accuracy_score"
      ]
    },
    {
      "cell_type": "code",
      "execution_count": null,
      "metadata": {
        "colab": {
          "base_uri": "https://localhost:8080/",
          "height": 35
        },
        "colab_type": "code",
        "id": "3wBI57b_215v",
        "outputId": "c00f8322-8a11-4d6a-8015-8d34fc68e155"
      },
      "outputs": [],
      "source": [
        "from sklearn.tree import export_graphviz\n",
        "import pydotplus\n",
        "from PIL import Image\n",
        "import os\n",
        "\n",
        "dot_data = export_graphviz(classifier, feature_names=list(train_x.columns),class_names=['benign', 'probe','dos','u2r','r2l'],rounded=True,filled=True)\n",
        "graph = pydotplus.graph_from_dot_data(dot_data)\n",
        "\n",
        "graph.write_png(\"viz_tree.png\")"
      ]
    },
    {
      "cell_type": "code",
      "execution_count": null,
      "metadata": {
        "colab": {
          "base_uri": "https://localhost:8080/",
          "height": 126
        },
        "colab_type": "code",
        "id": "_NlLrAo3HKl5",
        "outputId": "8b261ac5-3567-43f0-f525-b297e0d69d6b"
      },
      "outputs": [],
      "source": [
        "#variants can be added here, the kernel trick one should work better\n",
        "from sklearn.svm import LinearSVC\n",
        "\n",
        "classifier = LinearSVC()\n",
        "classifier.fit(train_x, train_Y)\n",
        "\n",
        "pred_y = classifier.predict(test_x)\n",
        "\n",
        "results = confusion_matrix(test_Y, pred_y)\n",
        "error = zero_one_loss(test_Y, pred_y)\n",
        "\n",
        "print(results)\n",
        "print(error)"
      ]
    },
    {
      "cell_type": "code",
      "execution_count": null,
      "metadata": {
        "colab": {
          "base_uri": "https://localhost:8080/",
          "height": 35
        },
        "colab_type": "code",
        "id": "S62hRuAhG3f9",
        "outputId": "22f36cdd-f034-4b54-9018-f8425e72db81"
      },
      "outputs": [],
      "source": [
        "print(accuracy_score(pred_y,test_Y))"
      ]
    },
    {
      "cell_type": "code",
      "execution_count": null,
      "metadata": {
        "colab": {
          "base_uri": "https://localhost:8080/",
          "height": 144
        },
        "colab_type": "code",
        "id": "Cj4d3SayHzJ2",
        "outputId": "6b22da55-02c4-4b90-af90-1ac9e93166b0"
      },
      "outputs": [],
      "source": [
        "from sklearn.svm import SVC\n",
        "model = SVC(verbose=True,max_iter=1000)\n",
        "\n",
        "model.fit(train_x, train_Y)\n",
        "pred_y = model.predict(test_x)\n",
        "\n",
        "results = confusion_matrix(test_Y, pred_y)\n",
        "error = zero_one_loss(test_Y, pred_y)\n",
        "\n",
        "print(results)\n",
        "print(error)\n",
        "print(accuracy_score(pred_y,test_Y))"
      ]
    },
    {
      "cell_type": "code",
      "execution_count": null,
      "metadata": {
        "colab": {},
        "colab_type": "code",
        "id": "Chxl7fYW2l-m"
      },
      "outputs": [],
      "source": [
        "train_x = train_x.astype(float)\n",
        "test_x = test_x.astype(float)\n",
        "type(test_x)"
      ]
    },
    {
      "cell_type": "code",
      "execution_count": null,
      "metadata": {},
      "outputs": [],
      "source": [
        "test_x.shape"
      ]
    },
    {
      "cell_type": "code",
      "execution_count": null,
      "metadata": {
        "colab": {},
        "colab_type": "code",
        "id": "vfpQKb4xAa2K"
      },
      "outputs": [],
      "source": [
        "shape = np.array(train_x).shape\n",
        "shape"
      ]
    },
    {
      "cell_type": "code",
      "execution_count": null,
      "metadata": {},
      "outputs": [],
      "source": [
        "train_x = np.array(train_x)\n",
        "train_Y = np.array(train_Y)\n",
        "test_x = np.array(test_x)\n",
        "test_Y = np.array(test_Y)"
      ]
    },
    {
      "cell_type": "code",
      "execution_count": null,
      "metadata": {},
      "outputs": [],
      "source": [
        "train_x = train_x.reshape(125973, -1, 1)\n",
        "test_x = test_x.reshape(22544, 118, 1)\n",
        "test_x.shape"
      ]
    },
    {
      "cell_type": "code",
      "execution_count": null,
      "metadata": {},
      "outputs": [],
      "source": [
        "model = Sequential()\n",
        "model.add(Conv1D(filters=64, kernel_size=5, activation='tanh', input_shape=(118, 1)))\n",
        "model.add(BatchNormalization())\n",
        "model.add(Conv1D(filters=128, kernel_size=5, activation='relu', input_shape=(118, 1)))\n",
        "model.add(BatchNormalization())\n",
        "model.add(Flatten())\n",
        "model.add(Dense(10, activation='relu'))\n",
        "model.add(Dense(1, activation='sigmoid'))"
      ]
    },
    {
      "cell_type": "code",
      "execution_count": null,
      "metadata": {},
      "outputs": [],
      "source": [
        "model.compile(loss='binary_crossentropy', optimizer='RMSprop', metrics=['accuracy'])"
      ]
    },
    {
      "cell_type": "code",
      "execution_count": null,
      "metadata": {},
      "outputs": [],
      "source": [
        "model.fit(train_x, train_Y_bin, epochs=1, batch_size=16, validation_split=0.2)"
      ]
    },
    {
      "cell_type": "code",
      "execution_count": null,
      "metadata": {},
      "outputs": [],
      "source": [
        "pred_y = model.predict(test_x)\n",
        "\n",
        "acc = {}\n",
        "for i in np.arange(0, 0.5, 0.005):\n",
        "    pred = (pred_y > i).astype(int)\n",
        "    acc.update({i: accuracy_score(test_Y_bin, pred)})"
      ]
    },
    {
      "cell_type": "code",
      "execution_count": null,
      "metadata": {},
      "outputs": [],
      "source": [
        "np.max(acc)"
      ]
    },
    {
      "cell_type": "code",
      "execution_count": null,
      "metadata": {},
      "outputs": [],
      "source": [
        "np.mean(pred_y)"
      ]
    },
    {
      "cell_type": "code",
      "execution_count": null,
      "metadata": {},
      "outputs": [],
      "source": [
        "train_Y_bin[0:100]"
      ]
    },
    {
      "cell_type": "code",
      "execution_count": null,
      "metadata": {},
      "outputs": [],
      "source": [
        "a = 0\n",
        "for i in range(len(test_x)):\n",
        "    if test_Y_bin[i] == 1:\n",
        "        a += 1\n",
        "a"
      ]
    },
    {
      "cell_type": "code",
      "execution_count": null,
      "metadata": {},
      "outputs": [],
      "source": [
        "type(train_Y_bin)"
      ]
    },
    {
      "cell_type": "code",
      "execution_count": null,
      "metadata": {},
      "outputs": [],
      "source": [
        "train_x_view = train_x.reshape(-1, 118)"
      ]
    },
    {
      "cell_type": "code",
      "execution_count": null,
      "metadata": {},
      "outputs": [],
      "source": [
        "np.max(train_x)"
      ]
    },
    {
      "cell_type": "code",
      "execution_count": null,
      "metadata": {},
      "outputs": [],
      "source": [
        "train_x_view"
      ]
    },
    {
      "cell_type": "code",
      "execution_count": null,
      "metadata": {},
      "outputs": [],
      "source": []
    }
  ],
  "metadata": {
    "colab": {
      "include_colab_link": true,
      "name": "Predicting Network Attacks.ipynb",
      "provenance": [],
      "toc_visible": true
    },
    "kernelspec": {
      "display_name": "Python 3 (ipykernel)",
      "language": "python",
      "name": "python3"
    },
    "language_info": {
      "codemirror_mode": {
        "name": "ipython",
        "version": 3
      },
      "file_extension": ".py",
      "mimetype": "text/x-python",
      "name": "python",
      "nbconvert_exporter": "python",
      "pygments_lexer": "ipython3",
      "version": "3.10.12"
    }
  },
  "nbformat": 4,
  "nbformat_minor": 0
}
